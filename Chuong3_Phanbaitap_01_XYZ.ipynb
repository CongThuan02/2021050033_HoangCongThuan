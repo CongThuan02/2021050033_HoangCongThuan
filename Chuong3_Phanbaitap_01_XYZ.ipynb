{
 "cells": [
  {
   "cell_type": "markdown",
   "metadata": {},
   "source": [
    "## CHƯƠNG 3: LẬP TRÌNH PYTHON CƠ BẢN - PHẦN BÀI TẬP - 01\n",
    "---\n",
    "\n",
    "1. Họ tên Sinh viên: \n",
    "2. Mã Sinh viên: \n",
    "3. Email: "
   ]
  },
  {
   "cell_type": "markdown",
   "metadata": {},
   "source": [
    "## Bài 1: Chia kẹo cho học sinh lớp 1\n",
    "----\n",
    "Cô có n cái kẹo, có m học sinh trong lớp. Hãy giúp cô chia đều số kẹo cho tất cả học sinh.\n",
    "\n",
    "**Yêu cầu:**\n",
    "* Nhập vào số kẹo của cô – N\n",
    "* Nhập vào số học sinh trong lớp – M\n",
    "\n",
    "\n",
    "Cho biết:\n",
    "1. Mỗi học sinh được nhận bao nhiêu cái kẹo?\n",
    "2. Cô còn lại bao nhiêu cái kẹo?"
   ]
  },
  {
   "cell_type": "code",
   "execution_count": null,
   "metadata": {},
   "outputs": [],
   "source": [
    "#{học viên viết code ở đây!}\n",
    "\n",
    "\n",
    "\n",
    "\n"
   ]
  },
  {
   "cell_type": "code",
   "execution_count": null,
   "metadata": {},
   "outputs": [],
   "source": []
  },
  {
   "cell_type": "code",
   "execution_count": null,
   "metadata": {},
   "outputs": [],
   "source": []
  },
  {
   "cell_type": "code",
   "execution_count": null,
   "metadata": {},
   "outputs": [],
   "source": []
  },
  {
   "cell_type": "markdown",
   "metadata": {},
   "source": [
    "# Bài 2: Tính tuổi\n",
    "---\n",
    "Nhập vào tên và năm sinh của một người, tính tuổi của người đó và hiển thị ra màn hình thông báo \n",
    "\n",
    "Yêu cầu:\n",
    "\n",
    "* Nhập vào họ tên: mai phương thúy\n",
    "* Nhập vào năm sinh: 2000\n",
    "\n",
    "Hiển thị thông báo kết quả:\n",
    "\t **Bạn “MAI PHƯƠNG THÚY” năm nay 19 tuổi!**"
   ]
  },
  {
   "cell_type": "code",
   "execution_count": null,
   "metadata": {},
   "outputs": [],
   "source": [
    "#{học viên viết code ở đây!}\n",
    "\n",
    "\n",
    "\n",
    "\n"
   ]
  },
  {
   "cell_type": "code",
   "execution_count": null,
   "metadata": {},
   "outputs": [],
   "source": []
  },
  {
   "cell_type": "code",
   "execution_count": null,
   "metadata": {},
   "outputs": [],
   "source": []
  },
  {
   "cell_type": "markdown",
   "metadata": {},
   "source": [
    "# Bài 3: Cho biết số thỏ trong rừng!\n",
    "---\n",
    "Ban đầu trong rừng có một cặp thỏ, biết rằng cứ sau 1 tháng thì số lượng thỏ trong rừng tăng lên gấp đôi. Hỏi sau x tháng thì trong rừng có bao nhiêu con thỏ (Giả thiết các con thỏ không chết)\n",
    "\n",
    "Yêu cầu: \n",
    "* Nhập vào số tháng x: 3\n",
    "* Hiển thị thông báo kết quả:\n",
    "\t **Trong rừng có: 16 con thỏ**"
   ]
  },
  {
   "cell_type": "code",
   "execution_count": null,
   "metadata": {},
   "outputs": [],
   "source": [
    "#{học viên viết code ở đây!}\n",
    "\n",
    "\n",
    "\n",
    "\n"
   ]
  },
  {
   "cell_type": "code",
   "execution_count": null,
   "metadata": {},
   "outputs": [],
   "source": []
  },
  {
   "cell_type": "code",
   "execution_count": null,
   "metadata": {},
   "outputs": [],
   "source": []
  },
  {
   "cell_type": "markdown",
   "metadata": {},
   "source": [
    "# Bài 4: Chuỗi văn bản\n",
    "---\n",
    "\n",
    "“Nước Việt Nam là một, dân tộc Việt Nam là một. Sông có thể cạn núi có thể mòn, song chân lý ấy không bao giờ thay đổi. (HỒ CHÍ MINH, 1890 – 1969)”\n",
    "\n",
    "Yêu cầu: \n",
    "1. Cho biết số ký tự có trong đoạn văn trên.\n",
    "2. Cho biết trong đoạn có chứa từ nào sau đây không (Không phân biệt chữ hoa, chữ thường)?\n",
    "    * “hồ chí minh”\n",
    "    * “non sông”\n",
    "3. Tách đoạn văn thành các câu bởi dấu .\n",
    "4. Cho biết trong đoạn văn trên có ký tự nào khác ký tự chữ và số hay không?\n",
    "5. Thay thế các các từ ‘Việt Nam’ bằng ‘VIỆT NAM’ trong đoạn văn trên."
   ]
  },
  {
   "cell_type": "code",
   "execution_count": null,
   "metadata": {},
   "outputs": [],
   "source": [
    "#{học viên viết code ở đây!}\n",
    "\n",
    "\n",
    "\n",
    "\n"
   ]
  },
  {
   "cell_type": "code",
   "execution_count": null,
   "metadata": {},
   "outputs": [],
   "source": []
  },
  {
   "cell_type": "code",
   "execution_count": null,
   "metadata": {},
   "outputs": [],
   "source": []
  },
  {
   "cell_type": "markdown",
   "metadata": {},
   "source": [
    "## Bài 5: Thống kê điểm Học viên\n",
    "---\n",
    "\n",
    "Khởi tạo một danh sách gồm các điểm thi môn “Python for Analysis” của lớp AIV_EVNICT (Điểm chữ: A, B, C, D, F)\n",
    "\n",
    "**Yêu cầu:** \n",
    "1. Cho biết số sinh viên trong lớp\n",
    "2. Có bao nhiêu sinh viên phải học lại môn này (điểm F).\n",
    "3. Có bao nhiêu sinh viên có điểm từ B trở lên.\n",
    "4. Sinh viên đầu tiên và cuối cùng trong lớp đã nghỉ học, tạo một bảng điểm mới và loại bỏ điểm của các sinh viên này ra "
   ]
  },
  {
   "cell_type": "code",
   "execution_count": null,
   "metadata": {},
   "outputs": [],
   "source": [
    "#{học viên viết code ở đây!}\n",
    "\n",
    "\n",
    "\n",
    "\n"
   ]
  },
  {
   "cell_type": "code",
   "execution_count": null,
   "metadata": {},
   "outputs": [],
   "source": []
  },
  {
   "cell_type": "code",
   "execution_count": null,
   "metadata": {},
   "outputs": [],
   "source": []
  }
 ],
 "metadata": {
  "kernelspec": {
   "display_name": "Python 3",
   "language": "python",
   "name": "python3"
  },
  "language_info": {
   "codemirror_mode": {
    "name": "ipython",
    "version": 3
   },
   "file_extension": ".py",
   "mimetype": "text/x-python",
   "name": "python",
   "nbconvert_exporter": "python",
   "pygments_lexer": "ipython3",
   "version": "3.7.1"
  }
 },
 "nbformat": 4,
 "nbformat_minor": 2
}
