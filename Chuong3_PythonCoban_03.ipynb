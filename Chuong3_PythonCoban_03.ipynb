{
 "cells": [
  {
   "cell_type": "markdown",
   "metadata": {},
   "source": [
    "<img src ='pic/Logo_CNTT_png.png' width='100px'>\n",
    "\n",
    "## CHƯƠNG 3: LẬP TRÌNH PYTHON CƠ BẢN - PHẦN 3\n",
    "---\n",
    "* Giảng viên: Đặng Văn Nam\n",
    "* Email: dangvannam@humg.edu.vn\n",
    "\n",
    "\n",
    "---\n",
    "**NỘI DUNG BÀI HỌC:**\n",
    "1. Hàm trong Python\n",
    "    * Giới thiệu Hàm\n",
    "    * Xây dựng hàm trong Python\n",
    "    * Return\n",
    "    * Tham số của hàm\n",
    "    * Phạm vi của biến\n",
    "    * Hàm ẩn danh (Lambda)\n",
    "2. Lớp và đối tượng trong Python\n",
    "3. Module và Package\n",
    "4. Đọc và ghi file với Python"
   ]
  },
  {
   "cell_type": "markdown",
   "metadata": {},
   "source": [
    "# I) Hàm trong Python\n",
    "---\n",
    "* Hàm trong Python là một nhóm các câu lệnh trong chương trình được tổ chức chung với nhau để thực hiện một chức năng hay một nhiệm vụ cụ thể nào đó.\n",
    "* Sử dụng hàm giúp phân rã chương trình từ một chương trình lớn, phức tạp thành các phần cụ thể nhỏ hơn giúp dễ quản lý, tổ chức, nâng cao khả năng tái sử dụng và chia sẻ công việc.\n"
   ]
  },
  {
   "cell_type": "code",
   "execution_count": 3,
   "metadata": {},
   "outputs": [],
   "source": [
    "#Ví dụ: Xây dựng 1 Hàm thực hiện chào hỏi\n",
    "def hello_MDC(name):\n",
    "    print('Hi ',name,', How are you?')\n",
    "    print('Have a nice day!')"
   ]
  },
  {
   "cell_type": "code",
   "execution_count": 4,
   "metadata": {},
   "outputs": [
    {
     "name": "stdout",
     "output_type": "stream",
     "text": [
      "Hi  HUMG , How are you?\n",
      "Have a nice day!\n"
     ]
    }
   ],
   "source": [
    "#Sử dụng hàm đã xây dựng\n",
    "hello_MDC('HUMG')"
   ]
  },
  {
   "cell_type": "code",
   "execution_count": 5,
   "metadata": {},
   "outputs": [
    {
     "name": "stdout",
     "output_type": "stream",
     "text": [
      "Hi  Tùng Dương , How are you?\n",
      "Have a nice day!\n"
     ]
    }
   ],
   "source": [
    "hello_MDC('Tùng Dương')"
   ]
  },
  {
   "cell_type": "code",
   "execution_count": null,
   "metadata": {},
   "outputs": [],
   "source": []
  },
  {
   "cell_type": "code",
   "execution_count": null,
   "metadata": {},
   "outputs": [],
   "source": []
  },
  {
   "cell_type": "code",
   "execution_count": 7,
   "metadata": {},
   "outputs": [
    {
     "name": "stdout",
     "output_type": "stream",
     "text": [
      "Bạn tên là gì?Nam\n",
      "Hi  Nam , How are you?\n",
      "Have a nice day!\n"
     ]
    }
   ],
   "source": [
    "ten = input('Bạn tên là gì?')\n",
    "hello_MDC(ten)"
   ]
  },
  {
   "cell_type": "code",
   "execution_count": null,
   "metadata": {},
   "outputs": [],
   "source": []
  },
  {
   "cell_type": "code",
   "execution_count": null,
   "metadata": {},
   "outputs": [],
   "source": []
  },
  {
   "cell_type": "code",
   "execution_count": null,
   "metadata": {},
   "outputs": [],
   "source": []
  },
  {
   "cell_type": "markdown",
   "metadata": {},
   "source": [
    "**Trước khi bắt tay vào xây dựng 1 hàm trong Python, cần phải tự trả lời các câu hỏi:**\n",
    "1. Hàm này sử dụng nhằm mục đích gì? \n",
    "2. Hàm này nhận đầu vào là gì?\n",
    "3. Hàm này trả kết quả ra là gì?\n"
   ]
  },
  {
   "cell_type": "code",
   "execution_count": 12,
   "metadata": {},
   "outputs": [],
   "source": [
    "#Xây dựng hàm tính n!\n",
    "#1.Hàm này dùng để làm gì? - Để tính n!\n",
    "#2.Hàm này nhận dữ liệu vào là gì? - Một số nguyên dương N\n",
    "#3. Hàm này trả kết quả ra là gì? - Một số nguyên dương là tích của 1*2*3...(n-1)*n\n",
    "def giai_thua(n):\n",
    "    #nhóm các câu lệnh xử lý bên trong hàm\n",
    "    tich=1\n",
    "    for i in range(1,n+1):\n",
    "        tich=tich*i\n",
    "    #kết quả trả về cho hàm\n",
    "    return tich"
   ]
  },
  {
   "cell_type": "code",
   "execution_count": 15,
   "metadata": {},
   "outputs": [
    {
     "name": "stdout",
     "output_type": "stream",
     "text": [
      "1307674368000\n"
     ]
    }
   ],
   "source": [
    "#Sử dụng hàm trong Python\n",
    "gt = giai_thua(15)\n",
    "print(gt)"
   ]
  },
  {
   "cell_type": "code",
   "execution_count": 14,
   "metadata": {},
   "outputs": [
    {
     "data": {
      "text/plain": [
       "3628800"
      ]
     },
     "execution_count": 14,
     "metadata": {},
     "output_type": "execute_result"
    }
   ],
   "source": [
    "1*2*3*4*5*6*7*8*9*10"
   ]
  },
  {
   "cell_type": "code",
   "execution_count": null,
   "metadata": {},
   "outputs": [],
   "source": [
    "#Gọi hàm trong Python\n",
    "n = int(input('Nhập vào một số nguyên N:'))\n",
    "print(n,'! = ', giai_thua(n))"
   ]
  },
  {
   "cell_type": "markdown",
   "metadata": {},
   "source": [
    "**Lệnh return:**\n",
    "* Lệnh return <kết quả trả về> được sử dụng để trả kết quả xử lý thông qua tên hàm. \n",
    "* Lệnh return có thể có hoặc không.\n",
    "* Trong trường hợp không cung cấp <kết quả trả về>, thì hàm return này sẽ trả về None. Nói cách khác, lệnh return được sử dụng để thoát khỏi định nghĩa hàm.\n",
    "\n",
    "* Lệnh return() có thể trả về 1 hay nhiều kết quả,nếu có nhiều hơn một kết quả thì ngăn cách nhau bởi dấu phẩy."
   ]
  },
  {
   "cell_type": "code",
   "execution_count": 19,
   "metadata": {},
   "outputs": [],
   "source": [
    "#Hàm tính tổng, hiệu, tích, thương:\n",
    "def all_ab(a,b):\n",
    "    add = a+b\n",
    "    sub = a-b\n",
    "    multi = a*b\n",
    "    div = a/b\n",
    "    #hàm trả về kết quả là 4 giá trị\n",
    "    return add, sub, multi, div"
   ]
  },
  {
   "cell_type": "code",
   "execution_count": 21,
   "metadata": {},
   "outputs": [
    {
     "name": "stdout",
     "output_type": "stream",
     "text": [
      "Tổng  18  +  22  =  40\n",
      "Hiệu  18  -  22  =  -4\n",
      "Tích  18  *  22  =  396\n",
      "Thương  18  /  22  =  0.8181818181818182\n"
     ]
    }
   ],
   "source": [
    "a = 18\n",
    "b = 22\n",
    "#lấy kết quả khi thực hiện hàm\n",
    "tong, hieu, tich, thuong = all_ab(a,b)\n",
    "\n",
    "print('Tổng ',a,' + ', b,' = ', tong)\n",
    "print('Hiệu ',a,' - ', b,' = ', hieu)\n",
    "print('Tích ',a,' * ', b,' = ', tich)\n",
    "print('Thương ',a,' / ', b,' = ', thuong)"
   ]
  },
  {
   "cell_type": "code",
   "execution_count": 22,
   "metadata": {},
   "outputs": [
    {
     "data": {
      "text/plain": [
       "(40, -4, 396, 0.8181818181818182)"
      ]
     },
     "execution_count": 22,
     "metadata": {},
     "output_type": "execute_result"
    }
   ],
   "source": [
    "all_ab(a,b)"
   ]
  },
  {
   "cell_type": "code",
   "execution_count": 26,
   "metadata": {},
   "outputs": [
    {
     "data": {
      "text/plain": [
       "0.8181818181818182"
      ]
     },
     "execution_count": 26,
     "metadata": {},
     "output_type": "execute_result"
    }
   ],
   "source": [
    "all_ab(a,b)[3]"
   ]
  },
  {
   "cell_type": "code",
   "execution_count": null,
   "metadata": {},
   "outputs": [],
   "source": []
  },
  {
   "cell_type": "code",
   "execution_count": null,
   "metadata": {},
   "outputs": [],
   "source": []
  },
  {
   "cell_type": "markdown",
   "metadata": {},
   "source": [
    "---\n",
    "**Tham số cho hàm:**\n",
    "* Tham số bắt buộc\n",
    "* Tham số có mặc định (Default parameter)\n",
    "* Tham số có độ dài biến (Variable-Length Parameter)\n"
   ]
  },
  {
   "cell_type": "code",
   "execution_count": 27,
   "metadata": {},
   "outputs": [],
   "source": [
    "#Hàm có thể không có tham số \n",
    "def chao():\n",
    "    print('Tôi là một người máy')\n",
    "    print('Chào bạn, rất vui được làm quen với bạn.') "
   ]
  },
  {
   "cell_type": "code",
   "execution_count": 29,
   "metadata": {},
   "outputs": [
    {
     "name": "stdout",
     "output_type": "stream",
     "text": [
      "Tôi là một người máy\n",
      "Chào bạn, rất vui được làm quen với bạn.\n"
     ]
    }
   ],
   "source": [
    "chao()"
   ]
  },
  {
   "cell_type": "code",
   "execution_count": 31,
   "metadata": {},
   "outputs": [
    {
     "name": "stdout",
     "output_type": "stream",
     "text": [
      "Nhập tên của bạn:nam\n",
      "Tôi là một người máy\n",
      "Chào bạn, rất vui được làm quen với bạn.\n"
     ]
    }
   ],
   "source": [
    "ten = input('Nhập tên của bạn:')\n",
    "\n",
    "chao()"
   ]
  },
  {
   "cell_type": "code",
   "execution_count": 32,
   "metadata": {},
   "outputs": [
    {
     "ename": "TypeError",
     "evalue": "giai_thua() missing 1 required positional argument: 'n'",
     "output_type": "error",
     "traceback": [
      "\u001b[1;31m---------------------------------------------------------------------------\u001b[0m",
      "\u001b[1;31mTypeError\u001b[0m                                 Traceback (most recent call last)",
      "\u001b[1;32m<ipython-input-32-aad070506ed8>\u001b[0m in \u001b[0;36m<module>\u001b[1;34m\u001b[0m\n\u001b[0;32m      1\u001b[0m \u001b[1;31m#Hàm có thể có hoặc không có tham số,\u001b[0m\u001b[1;33m\u001b[0m\u001b[1;33m\u001b[0m\u001b[1;33m\u001b[0m\u001b[0m\n\u001b[0;32m      2\u001b[0m \u001b[1;31m#nếu hàm có tham số khi gọi hàm phải truyền tham số cho hàm, nếu không sẽ báo lỗi\u001b[0m\u001b[1;33m\u001b[0m\u001b[1;33m\u001b[0m\u001b[1;33m\u001b[0m\u001b[0m\n\u001b[1;32m----> 3\u001b[1;33m \u001b[0ma\u001b[0m \u001b[1;33m=\u001b[0m \u001b[0mgiai_thua\u001b[0m\u001b[1;33m(\u001b[0m\u001b[1;33m)\u001b[0m\u001b[1;33m\u001b[0m\u001b[1;33m\u001b[0m\u001b[0m\n\u001b[0m\u001b[0;32m      4\u001b[0m \u001b[0mprint\u001b[0m\u001b[1;33m(\u001b[0m\u001b[0ma\u001b[0m\u001b[1;33m)\u001b[0m\u001b[1;33m\u001b[0m\u001b[1;33m\u001b[0m\u001b[0m\n",
      "\u001b[1;31mTypeError\u001b[0m: giai_thua() missing 1 required positional argument: 'n'"
     ]
    }
   ],
   "source": [
    "#Hàm có thể có hoặc không có tham số, \n",
    "#nếu hàm có tham số khi gọi hàm phải truyền tham số cho hàm, nếu không sẽ báo lỗi\n",
    "a = giai_thua()\n",
    "print(a)"
   ]
  },
  {
   "cell_type": "code",
   "execution_count": 33,
   "metadata": {},
   "outputs": [
    {
     "ename": "TypeError",
     "evalue": "all_ab() missing 1 required positional argument: 'b'",
     "output_type": "error",
     "traceback": [
      "\u001b[1;31m---------------------------------------------------------------------------\u001b[0m",
      "\u001b[1;31mTypeError\u001b[0m                                 Traceback (most recent call last)",
      "\u001b[1;32m<ipython-input-33-fe8af03eb4b2>\u001b[0m in \u001b[0;36m<module>\u001b[1;34m\u001b[0m\n\u001b[1;32m----> 1\u001b[1;33m \u001b[0mtong\u001b[0m\u001b[1;33m,\u001b[0m\u001b[0mhieu\u001b[0m\u001b[1;33m,\u001b[0m\u001b[0mtich\u001b[0m\u001b[1;33m,\u001b[0m\u001b[0mthuong\u001b[0m \u001b[1;33m=\u001b[0m \u001b[0mall_ab\u001b[0m\u001b[1;33m(\u001b[0m\u001b[1;36m8\u001b[0m\u001b[1;33m)\u001b[0m\u001b[1;33m\u001b[0m\u001b[1;33m\u001b[0m\u001b[0m\n\u001b[0m",
      "\u001b[1;31mTypeError\u001b[0m: all_ab() missing 1 required positional argument: 'b'"
     ]
    }
   ],
   "source": [
    "tong,hieu,tich,thuong = all_ab(8)"
   ]
  },
  {
   "cell_type": "code",
   "execution_count": null,
   "metadata": {},
   "outputs": [],
   "source": [
    "#Hàm có thể không có tham số \n"
   ]
  },
  {
   "cell_type": "code",
   "execution_count": null,
   "metadata": {},
   "outputs": [],
   "source": [
    "hello()"
   ]
  },
  {
   "cell_type": "code",
   "execution_count": null,
   "metadata": {},
   "outputs": [],
   "source": []
  },
  {
   "cell_type": "markdown",
   "metadata": {},
   "source": [
    "---\n",
    "Để hạn chế trường hợp báo lỗi khi khi gọi hàm không cung cấp tham số thì trong Python cung cấp cho chúng ta thiết lập giá trị mặc định của tham số khi khai báo hàm. Bằng cách sử dụng dấu = với cú pháp như sau:\n"
   ]
  },
  {
   "cell_type": "code",
   "execution_count": 34,
   "metadata": {},
   "outputs": [],
   "source": [
    "#Hàm tính tổng\n",
    "def sum_ab(a=5, b =7):\n",
    "    total = a + b\n",
    "    return total"
   ]
  },
  {
   "cell_type": "code",
   "execution_count": 36,
   "metadata": {},
   "outputs": [
    {
     "name": "stdout",
     "output_type": "stream",
     "text": [
      "41\n"
     ]
    }
   ],
   "source": [
    "#Gọi hàm sum_ab() truyền vào 2 tham số\n",
    "a = 28\n",
    "b = 13\n",
    "print(sum_ab(a,b))"
   ]
  },
  {
   "cell_type": "code",
   "execution_count": 37,
   "metadata": {},
   "outputs": [
    {
     "name": "stdout",
     "output_type": "stream",
     "text": [
      "12\n"
     ]
    }
   ],
   "source": [
    "#Gọi hàm sum_ab() không truyền vào tham số\n",
    "#Sử dụng tham số mặc định\n",
    "print(sum_ab())"
   ]
  },
  {
   "cell_type": "code",
   "execution_count": 38,
   "metadata": {},
   "outputs": [],
   "source": [
    "def giai_thua(n=10):\n",
    "    #nhóm các câu lệnh xử lý bên trong hàm\n",
    "    tich=1\n",
    "    for i in range(1,n+1):\n",
    "        tich=tich*i\n",
    "    #kết quả trả về cho hàm\n",
    "    return tich"
   ]
  },
  {
   "cell_type": "code",
   "execution_count": 39,
   "metadata": {},
   "outputs": [
    {
     "data": {
      "text/plain": [
       "5040"
      ]
     },
     "execution_count": 39,
     "metadata": {},
     "output_type": "execute_result"
    }
   ],
   "source": [
    "giai_thua(7)"
   ]
  },
  {
   "cell_type": "code",
   "execution_count": 40,
   "metadata": {},
   "outputs": [
    {
     "data": {
      "text/plain": [
       "3628800"
      ]
     },
     "execution_count": 40,
     "metadata": {},
     "output_type": "execute_result"
    }
   ],
   "source": [
    "giai_thua()"
   ]
  },
  {
   "cell_type": "code",
   "execution_count": null,
   "metadata": {},
   "outputs": [],
   "source": []
  },
  {
   "cell_type": "code",
   "execution_count": null,
   "metadata": {},
   "outputs": [],
   "source": []
  },
  {
   "cell_type": "markdown",
   "metadata": {},
   "source": [
    "---\n",
    "**Tham số có độ dài biến (Variable-Length Parameter):**\n",
    "\n",
    "Trên thực tế, không phải lúc nào chúng ta cũng biết được chính xác số lượng biến truyền vào trong hàm. Chính vì thế trong Python có cũng cấp cho chúng ta khai báo một param đại diện cho các biến truyền vào hàm bằng cách thêm dấu * vào trước param đó\n"
   ]
  },
  {
   "cell_type": "code",
   "execution_count": 41,
   "metadata": {},
   "outputs": [
    {
     "name": "stdout",
     "output_type": "stream",
     "text": [
      "Kết quả: 15\n"
     ]
    }
   ],
   "source": [
    "#Xây dựng hàm tính tổng các số đưa vào\n",
    "def get_sum(*num):\n",
    "    tmp=0\n",
    "    #duyệt các tham số\n",
    "    for i in num:\n",
    "        tmp = tmp+i\n",
    "    return tmp\n",
    "\n",
    "#Gọi hàm và truyền các tham số cho hàm\n",
    "result = get_sum(1,2,3,4,5)\n",
    "print('Kết quả:', result)"
   ]
  },
  {
   "cell_type": "code",
   "execution_count": 42,
   "metadata": {},
   "outputs": [
    {
     "name": "stdout",
     "output_type": "stream",
     "text": [
      "Kết quả: 329\n"
     ]
    }
   ],
   "source": [
    "result = get_sum(11,20,3,4,5,90,18, 100, 78)\n",
    "print('Kết quả:', result)"
   ]
  },
  {
   "cell_type": "markdown",
   "metadata": {},
   "source": []
  },
  {
   "cell_type": "markdown",
   "metadata": {},
   "source": [
    "---\n",
    "**Phạm vi của biến:**\n",
    "Một biến chỉ có tác dụng trong phạm vi mà nó khai báo\n",
    "* Biến toàn cục (global): trong phạm vi toàn bộ chương trình\n",
    "* Biến cục bộ (local): Chỉ có tác dụng trong thân hàm khai báo\n"
   ]
  },
  {
   "cell_type": "code",
   "execution_count": 46,
   "metadata": {},
   "outputs": [],
   "source": [
    "def myfunc():\n",
    "    x = 100 #Biến local: Chỉ có tác dụng trong hàm myfunc\n",
    "    x = x + 50\n",
    "    x = x - 99\n",
    "    print('Biến local: x = ', x)"
   ]
  },
  {
   "cell_type": "code",
   "execution_count": 47,
   "metadata": {},
   "outputs": [
    {
     "name": "stdout",
     "output_type": "stream",
     "text": [
      "Biến local: x =  51\n"
     ]
    }
   ],
   "source": [
    "myfunc()\n"
   ]
  },
  {
   "cell_type": "code",
   "execution_count": 45,
   "metadata": {},
   "outputs": [
    {
     "ename": "NameError",
     "evalue": "name 'x' is not defined",
     "output_type": "error",
     "traceback": [
      "\u001b[1;31m---------------------------------------------------------------------------\u001b[0m",
      "\u001b[1;31mNameError\u001b[0m                                 Traceback (most recent call last)",
      "\u001b[1;32m<ipython-input-45-4af562167c8d>\u001b[0m in \u001b[0;36m<module>\u001b[1;34m\u001b[0m\n\u001b[1;32m----> 1\u001b[1;33m \u001b[0mprint\u001b[0m\u001b[1;33m(\u001b[0m\u001b[0mx\u001b[0m\u001b[1;33m)\u001b[0m \u001b[1;31m#Biến x chỉ có tác dụng trong hàm myfunc\u001b[0m\u001b[1;33m\u001b[0m\u001b[1;33m\u001b[0m\u001b[0m\n\u001b[0m",
      "\u001b[1;31mNameError\u001b[0m: name 'x' is not defined"
     ]
    }
   ],
   "source": [
    "print(x) #Biến x chỉ có tác dụng trong hàm myfunc"
   ]
  },
  {
   "cell_type": "code",
   "execution_count": null,
   "metadata": {},
   "outputs": [],
   "source": []
  },
  {
   "cell_type": "code",
   "execution_count": null,
   "metadata": {},
   "outputs": [],
   "source": []
  },
  {
   "cell_type": "code",
   "execution_count": null,
   "metadata": {},
   "outputs": [],
   "source": []
  },
  {
   "cell_type": "code",
   "execution_count": 48,
   "metadata": {},
   "outputs": [],
   "source": [
    "x = 300 #Biến toàn cục, có tác dụng trong toàn bộ chương trình\n",
    "y = 800\n",
    "def myfunc():\n",
    "    #Biến địa phương, chỉ có tác dụng trong thân hàm\n",
    "    x = 200 \n",
    "    total = x + y #Biến địa phương local\n",
    "    print('(Local) x :', x)\n",
    "    print('total :', total)"
   ]
  },
  {
   "cell_type": "code",
   "execution_count": 49,
   "metadata": {},
   "outputs": [
    {
     "name": "stdout",
     "output_type": "stream",
     "text": [
      "(Local) x : 200\n",
      "total : 1000\n"
     ]
    }
   ],
   "source": [
    "#Gọi hàm\n",
    "myfunc()"
   ]
  },
  {
   "cell_type": "code",
   "execution_count": 50,
   "metadata": {},
   "outputs": [
    {
     "name": "stdout",
     "output_type": "stream",
     "text": [
      "(global) x: 300\n"
     ]
    }
   ],
   "source": [
    "print('(global) x:', x)"
   ]
  },
  {
   "cell_type": "code",
   "execution_count": null,
   "metadata": {},
   "outputs": [],
   "source": []
  },
  {
   "cell_type": "code",
   "execution_count": null,
   "metadata": {},
   "outputs": [],
   "source": []
  },
  {
   "cell_type": "code",
   "execution_count": 51,
   "metadata": {},
   "outputs": [
    {
     "name": "stdout",
     "output_type": "stream",
     "text": [
      "300\n"
     ]
    }
   ],
   "source": [
    "#Function Inside Function\n",
    "#Một biến khai báo trong hàm được sử dụng cho mọi hàm trong nó.\n",
    "def myfunc():\n",
    "    z = 300\n",
    "    def myinnerfunc():\n",
    "        print(z)\n",
    "\n",
    "    #Gọi hàm \n",
    "    myinnerfunc()\n",
    "\n",
    "myfunc()"
   ]
  },
  {
   "cell_type": "code",
   "execution_count": 52,
   "metadata": {},
   "outputs": [],
   "source": [
    "#Thiết lập một biến local thành global\n",
    "def myfunc():\n",
    "    global k #Thiết lập biến k là biến global\n",
    "    k = 300\n",
    "    print('Inside func: k = ',k)\n",
    "    "
   ]
  },
  {
   "cell_type": "code",
   "execution_count": 53,
   "metadata": {},
   "outputs": [
    {
     "name": "stdout",
     "output_type": "stream",
     "text": [
      "Inside func: k =  300\n"
     ]
    }
   ],
   "source": [
    "myfunc()\n"
   ]
  },
  {
   "cell_type": "code",
   "execution_count": 54,
   "metadata": {},
   "outputs": [
    {
     "name": "stdout",
     "output_type": "stream",
     "text": [
      "Outside func: k = 300\n"
     ]
    }
   ],
   "source": [
    "print('Outside func: k =', k)"
   ]
  },
  {
   "cell_type": "markdown",
   "metadata": {},
   "source": [
    "---\n",
    "**Hàm ẩn danh (lambda):**\n",
    "* Một hàm ẩn danh là một hàm được định nghĩa mà không có tên \n",
    "* Các hàm bình thường được định nghĩa bằng từ khóa def; hàm ẩn danh được định nghĩa bằng từ khóa lambda\n",
    "\n",
    "**Cú pháp:**\n",
    "lambda arguments : Expression\n"
   ]
  },
  {
   "cell_type": "code",
   "execution_count": 56,
   "metadata": {},
   "outputs": [
    {
     "name": "stdout",
     "output_type": "stream",
     "text": [
      "10\n",
      "5\n"
     ]
    }
   ],
   "source": [
    "#Ví dụ hàm ẩn danh: 1 tham số\n",
    "x = lambda a : a + 2\n",
    "#lambda a: a + 2 là hàm lambda\n",
    "#Trong đó: a là tham số truyền vào\n",
    "#          a+10 là biểu thức\n",
    "\n",
    "print(x(8))\n",
    "print(x(3))"
   ]
  },
  {
   "cell_type": "code",
   "execution_count": 57,
   "metadata": {},
   "outputs": [
    {
     "name": "stdout",
     "output_type": "stream",
     "text": [
      "90\n"
     ]
    }
   ],
   "source": [
    "#Hàm ẩn danh 2 tham số \n",
    "x = lambda a, b : a * b\n",
    "\n",
    "print(x(15, 6))"
   ]
  },
  {
   "cell_type": "markdown",
   "metadata": {},
   "source": [
    "# THỰC HÀNH:\n",
    "---\n",
    "## BÀI 15: Viết hàm cho các bài đã thực hiện\n",
    "1. Viết hàm greeting(): Trả về câu chào với tham số truyền vào là chuỗi họ tên và năm sinh (Xem lại bài tập số 2)\n",
    "2. Viết hàm rabbit_count(): tính số thỏ trong rừng khi truyền vào số tháng (Xem lại bài tập số 3)\n",
    "3. Viết hàm count_mark(): trả về số sinh viên học lại và tổng số sinh viên trong lớp với tham số truyền vào là một danh sách bảng điểm (Xem lại bài tập số 5 ý 1, 2)\n",
    "4. Viết hàm bmi_show(): Trả về nhận xét dựa vào chỉ số BMI đã tính với 2 tham số truyền vào là chiều cao, cân nặng (Xem lại bài tập số 7)\n",
    "5. Viết hàm cal_point(): Trả về điểm trung bình hệ 10 và hệ 4 của một học sinh khi truyền vào danh sách điểm (Xem lại bài tập số 10 ý 2)\n",
    "6. Viết hàm list_prime(): trả danh sách các số nguyên tố trong khoảng tử 1 đến n với tham số truyền vào là n (Xem lại bài tập số 12)\n"
   ]
  },
  {
   "cell_type": "code",
   "execution_count": null,
   "metadata": {},
   "outputs": [],
   "source": []
  },
  {
   "cell_type": "code",
   "execution_count": 58,
   "metadata": {},
   "outputs": [],
   "source": []
  },
  {
   "cell_type": "code",
   "execution_count": 59,
   "metadata": {},
   "outputs": [
    {
     "data": {
      "text/plain": [
       "8192"
      ]
     },
     "execution_count": 59,
     "metadata": {},
     "output_type": "execute_result"
    }
   ],
   "source": []
  },
  {
   "cell_type": "code",
   "execution_count": null,
   "metadata": {},
   "outputs": [],
   "source": []
  },
  {
   "cell_type": "code",
   "execution_count": 69,
   "metadata": {},
   "outputs": [],
   "source": []
  },
  {
   "cell_type": "code",
   "execution_count": null,
   "metadata": {},
   "outputs": [],
   "source": []
  },
  {
   "cell_type": "code",
   "execution_count": null,
   "metadata": {},
   "outputs": [],
   "source": []
  },
  {
   "cell_type": "markdown",
   "metadata": {},
   "source": [
    "# 2. Lớp, đối tượng trong Python\n",
    "---\n",
    "Một số khái niệm hướng đối tượng:\n",
    "* **Thuộc tính (Attribute):** Thuộc tính là một thành viên của lớp, Hình chữ nhật có 2 thuộc tính width và height\n",
    "* **Phương thức (Method):**\n",
    "    * Phương thức của class tương tự như một hàm thông thường, nhưng nó là một hàm của class. Để sử dụng được cần phải gọi thông qua đối tượng.\n",
    "    * Tham số đầu tiên của phương thức luôn là self (Một từ khóa ám chỉ chính class đó)\n",
    "* **Phương thức khởi tạo (Constructor):**\n",
    "    * Là một phương thức đặc biệt của lớp, luôn có tên là __init__. Tham số đầu tiên luôn là self. Từ khoá self ở đây thể hiện cho chính bản thân class.  \n",
    "    * Chỉ có thể định nghĩa một contructor trong class\n",
    "    * Constructor được sử dụng để tạo ra một đối tượng.\n"
   ]
  },
  {
   "cell_type": "code",
   "execution_count": 72,
   "metadata": {},
   "outputs": [],
   "source": [
    "#Tạo một lớp Rectangle\n",
    "class Rectangle():\n",
    "    #Lớp Rectangle có 2 thuộc tính: width, height\n",
    "\n",
    "    #Phương thức khởi tạo đối tượng (Contructor)\n",
    "    def __init__(self, width, height):\n",
    "        self.width = width\n",
    "        self.height = height\n",
    "       \n",
    "    #Phương thức tính diện tích\n",
    "    def getArea(self):\n",
    "        area = round(self.width * self.height,1)\n",
    "        return area\n",
    "   \n",
    "    #Phương thức tính chu vi\n",
    "    def getPerimeter(self):\n",
    "        perimeter = round((self.width + self.height)*2,1)\n",
    "        return perimeter   "
   ]
  },
  {
   "cell_type": "code",
   "execution_count": null,
   "metadata": {},
   "outputs": [],
   "source": []
  },
  {
   "cell_type": "code",
   "execution_count": 73,
   "metadata": {},
   "outputs": [],
   "source": [
    "#Ví dụ: Tạo 2 đối tượng r1, r2 từ class Rectangle\n",
    "r1 = Rectangle(10,5)\n",
    "r2 = Rectangle(20,8.8)\n"
   ]
  },
  {
   "cell_type": "code",
   "execution_count": 74,
   "metadata": {},
   "outputs": [
    {
     "data": {
      "text/plain": [
       "__main__.Rectangle"
      ]
     },
     "execution_count": 74,
     "metadata": {},
     "output_type": "execute_result"
    }
   ],
   "source": [
    "type(r1)"
   ]
  },
  {
   "cell_type": "code",
   "execution_count": null,
   "metadata": {},
   "outputs": [],
   "source": [
    "<tên đối tượng>.thuộc tính"
   ]
  },
  {
   "cell_type": "code",
   "execution_count": 75,
   "metadata": {},
   "outputs": [
    {
     "name": "stdout",
     "output_type": "stream",
     "text": [
      "----Thuộc tính----------------\n",
      "1. Thuộc tính Chiều rộng:  10\n",
      "2. Thuộc tính Chiều dài:  5\n"
     ]
    }
   ],
   "source": [
    "#Lấy thuộc tính width, height  của đối tượng rec1\n",
    "x = r1.width\n",
    "y = r1.height\n",
    "print('----Thuộc tính----------------')\n",
    "print('1. Thuộc tính Chiều rộng: ', x)\n",
    "print('2. Thuộc tính Chiều dài: ', y)"
   ]
  },
  {
   "cell_type": "code",
   "execution_count": 76,
   "metadata": {},
   "outputs": [
    {
     "data": {
      "text/plain": [
       "20"
      ]
     },
     "execution_count": 76,
     "metadata": {},
     "output_type": "execute_result"
    }
   ],
   "source": [
    "r2.width"
   ]
  },
  {
   "cell_type": "code",
   "execution_count": null,
   "metadata": {},
   "outputs": [],
   "source": [
    "#<tên đối tượng>.phương thức()"
   ]
  },
  {
   "cell_type": "code",
   "execution_count": 77,
   "metadata": {},
   "outputs": [
    {
     "name": "stdout",
     "output_type": "stream",
     "text": [
      "---------Phương thức----------\n",
      "1. Phương thức tính Diện tích: 50\n",
      "2. Phương thức tính Chu vi: 30\n"
     ]
    }
   ],
   "source": [
    "#Gọi phương thức getArea, getPerimeter của đối tượng rec1\n",
    "dt = r1.getArea()\n",
    "cv = r1.getPerimeter()\n",
    "print('---------Phương thức----------')\n",
    "print('1. Phương thức tính Diện tích:', dt)\n",
    "print('2. Phương thức tính Chu vi:',cv)"
   ]
  },
  {
   "cell_type": "code",
   "execution_count": null,
   "metadata": {},
   "outputs": [],
   "source": []
  },
  {
   "cell_type": "code",
   "execution_count": 78,
   "metadata": {},
   "outputs": [
    {
     "data": {
      "text/plain": [
       "176.0"
      ]
     },
     "execution_count": 78,
     "metadata": {},
     "output_type": "execute_result"
    }
   ],
   "source": [
    "r2.getArea()"
   ]
  },
  {
   "cell_type": "code",
   "execution_count": 79,
   "metadata": {},
   "outputs": [
    {
     "data": {
      "text/plain": [
       "10"
      ]
     },
     "execution_count": 79,
     "metadata": {},
     "output_type": "execute_result"
    }
   ],
   "source": [
    "r1.width"
   ]
  },
  {
   "cell_type": "code",
   "execution_count": 80,
   "metadata": {},
   "outputs": [],
   "source": [
    "#Thiết lập lại giá trị thuộc tính của đối tượng\n",
    "r1.width = 15"
   ]
  },
  {
   "cell_type": "code",
   "execution_count": 81,
   "metadata": {},
   "outputs": [
    {
     "name": "stdout",
     "output_type": "stream",
     "text": [
      "15  -- :Diện tích:  75\n"
     ]
    }
   ],
   "source": [
    "print (r1.width,' -- :Diện tích: ',r1.getArea())"
   ]
  },
  {
   "cell_type": "code",
   "execution_count": null,
   "metadata": {},
   "outputs": [],
   "source": []
  },
  {
   "cell_type": "code",
   "execution_count": 86,
   "metadata": {},
   "outputs": [],
   "source": [
    "#Setup giá trị mặc định cho thuộc tính của đối tượng và thuộc tính cố định ko thể thay đôi\n",
    "#Tạo một lớp Rectangle\n",
    "class Rectangle1():\n",
    "    \n",
    "    name = 'Version 1.1.1' #Thuộc tính bất biến này tạo bên ngoài hàm tạo\n",
    "    \n",
    "    #Lớp Rectangle có 2 thuộc tính: width, height\n",
    "    #Phương thức khởi tạo đối tượng (Contructor)\n",
    "    def __init__(self, width = 8, height = 4):\n",
    "        self.width = width\n",
    "        self.height = height\n",
    "       \n",
    "    #Phương thức tính diện tích\n",
    "    def getArea(self):\n",
    "        area = round(self.width * self.height,1)\n",
    "        return area\n",
    "   \n",
    "    #Phương thức tính chu vi\n",
    "    def getPerimeter(self):\n",
    "        perimeter = round((self.width + self.height)*2,1)\n",
    "        return perimeter   "
   ]
  },
  {
   "cell_type": "code",
   "execution_count": 88,
   "metadata": {},
   "outputs": [],
   "source": [
    "#Khởi tạo đối tượng\n",
    "r3 = Rectangle1()"
   ]
  },
  {
   "cell_type": "code",
   "execution_count": 84,
   "metadata": {},
   "outputs": [
    {
     "name": "stdout",
     "output_type": "stream",
     "text": [
      "----Thuộc tính----------------\n",
      "1. Thuộc tính Chiều rộng:  8\n",
      "2. Thuộc tính Chiều dài:  4\n"
     ]
    }
   ],
   "source": [
    "#Lấy thuộc tính width, height  của đối tượng rec1\n",
    "x = r3.width\n",
    "y = r3.height\n",
    "print('----Thuộc tính----------------')\n",
    "print('1. Thuộc tính Chiều rộng: ', x)\n",
    "print('2. Thuộc tính Chiều dài: ', y)"
   ]
  },
  {
   "cell_type": "code",
   "execution_count": 89,
   "metadata": {},
   "outputs": [
    {
     "data": {
      "text/plain": [
       "'Version 1.1.1'"
      ]
     },
     "execution_count": 89,
     "metadata": {},
     "output_type": "execute_result"
    }
   ],
   "source": [
    "#Thuộc tính name ko thể thay đổi\n",
    "r3.name"
   ]
  },
  {
   "cell_type": "code",
   "execution_count": null,
   "metadata": {},
   "outputs": [],
   "source": []
  },
  {
   "cell_type": "code",
   "execution_count": null,
   "metadata": {},
   "outputs": [],
   "source": []
  },
  {
   "cell_type": "code",
   "execution_count": null,
   "metadata": {},
   "outputs": [],
   "source": []
  },
  {
   "cell_type": "code",
   "execution_count": null,
   "metadata": {},
   "outputs": [],
   "source": []
  },
  {
   "cell_type": "code",
   "execution_count": null,
   "metadata": {},
   "outputs": [],
   "source": []
  },
  {
   "cell_type": "code",
   "execution_count": null,
   "metadata": {},
   "outputs": [],
   "source": []
  },
  {
   "cell_type": "code",
   "execution_count": null,
   "metadata": {},
   "outputs": [],
   "source": []
  },
  {
   "cell_type": "code",
   "execution_count": null,
   "metadata": {},
   "outputs": [],
   "source": []
  },
  {
   "cell_type": "markdown",
   "metadata": {},
   "source": [
    "# THỰC HÀNH:\n",
    "---\n",
    "## BÀI 16: Xây dựng lớp Person:\n",
    "1. Gồm các Thuộc tính: \n",
    "    * họ tên (name), năm sinh (year), chiều cao height), cân nặng (weight)\n",
    "    * Giá trị mặc định của các thuộc tính là thông tin của bạn\n",
    "\n",
    "2. Gồm các Phương thức: \n",
    "    * Geeting(): Hiển thị thông tin của Person\n",
    "    * BMI(): Tính toán theo chỉ số BMI của Person\n"
   ]
  },
  {
   "cell_type": "code",
   "execution_count": null,
   "metadata": {},
   "outputs": [],
   "source": []
  },
  {
   "cell_type": "code",
   "execution_count": null,
   "metadata": {},
   "outputs": [],
   "source": []
  },
  {
   "cell_type": "code",
   "execution_count": null,
   "metadata": {},
   "outputs": [],
   "source": []
  },
  {
   "cell_type": "code",
   "execution_count": null,
   "metadata": {},
   "outputs": [],
   "source": []
  },
  {
   "cell_type": "code",
   "execution_count": null,
   "metadata": {},
   "outputs": [],
   "source": []
  },
  {
   "cell_type": "code",
   "execution_count": null,
   "metadata": {},
   "outputs": [],
   "source": []
  },
  {
   "cell_type": "markdown",
   "metadata": {},
   "source": [
    "# 3. Module và Package\n",
    "---\n",
    "Module hiểu ngắn gọn là một file python mà trong đó chứa các khai báo và định nghĩa về hàm số và biến. Các chương trình python sẽ được thiết kế sao cho nội dung được chia nhỏ về các files module để dễ dàng quản lý. Chúng ta có thể dễ dàng import lại các khai báo và định nghĩa từ module này sang module khác.\n",
    "\n",
    "Đối với những chương trình mà thường xuyên được sử dụng lặp lại ở những chương trình khác thì chúng ta sẽ tìm cách đóng gói chúng thành những packages. Như vậy khi tái sử dụng chúng, chúng ta chỉ việc gọi lại từ thư viện của interpreter mà không cần viết lại code. Một package sẽ có thiết kế bao gồm nhiều files module."
   ]
  },
  {
   "cell_type": "code",
   "execution_count": 90,
   "metadata": {},
   "outputs": [],
   "source": [
    "import moduleNam"
   ]
  },
  {
   "cell_type": "code",
   "execution_count": 91,
   "metadata": {},
   "outputs": [
    {
     "data": {
      "text/plain": [
       "['__builtins__',\n",
       " '__cached__',\n",
       " '__doc__',\n",
       " '__file__',\n",
       " '__loader__',\n",
       " '__name__',\n",
       " '__package__',\n",
       " '__spec__',\n",
       " 'bmi_show',\n",
       " 'giai_thua',\n",
       " 'rabbit_count']"
      ]
     },
     "execution_count": 91,
     "metadata": {},
     "output_type": "execute_result"
    }
   ],
   "source": [
    "dir(moduleNam)"
   ]
  },
  {
   "cell_type": "code",
   "execution_count": 92,
   "metadata": {},
   "outputs": [
    {
     "data": {
      "text/plain": [
       "'Bạn đang quá cân'"
      ]
     },
     "execution_count": 92,
     "metadata": {},
     "output_type": "execute_result"
    }
   ],
   "source": [
    "moduleNam.bmi_show(1.78,90)"
   ]
  },
  {
   "cell_type": "code",
   "execution_count": 93,
   "metadata": {},
   "outputs": [
    {
     "data": {
      "text/plain": [
       "120"
      ]
     },
     "execution_count": 93,
     "metadata": {},
     "output_type": "execute_result"
    }
   ],
   "source": [
    "moduleNam.giai_thua(5)"
   ]
  },
  {
   "cell_type": "code",
   "execution_count": 99,
   "metadata": {},
   "outputs": [],
   "source": [
    "import moduleNam as mn"
   ]
  },
  {
   "cell_type": "code",
   "execution_count": 101,
   "metadata": {},
   "outputs": [
    {
     "data": {
      "text/plain": [
       "'Bạn đang quá cân'"
      ]
     },
     "execution_count": 101,
     "metadata": {},
     "output_type": "execute_result"
    }
   ],
   "source": [
    "mn.bmi_show(1.78,90)"
   ]
  },
  {
   "cell_type": "code",
   "execution_count": null,
   "metadata": {},
   "outputs": [],
   "source": [
    "#gọi package để sử dụng\n",
    "import math\n",
    "\n",
    "#Liệt kê tất cả các phương thức, thuộc tính của package math\n",
    "print (dir(math))"
   ]
  },
  {
   "cell_type": "code",
   "execution_count": null,
   "metadata": {},
   "outputs": [],
   "source": [
    "#Gọi module pi trong package math\n",
    "x = math.pi\n",
    "x"
   ]
  },
  {
   "cell_type": "code",
   "execution_count": null,
   "metadata": {},
   "outputs": [],
   "source": [
    "math.sqrt(100)"
   ]
  },
  {
   "cell_type": "code",
   "execution_count": 105,
   "metadata": {},
   "outputs": [
    {
     "name": "stdout",
     "output_type": "stream",
     "text": [
      "math\n"
     ]
    }
   ],
   "source": [
    "print (math.__name__)"
   ]
  },
  {
   "cell_type": "code",
   "execution_count": null,
   "metadata": {},
   "outputs": [],
   "source": []
  },
  {
   "cell_type": "code",
   "execution_count": null,
   "metadata": {},
   "outputs": [],
   "source": []
  },
  {
   "cell_type": "code",
   "execution_count": null,
   "metadata": {},
   "outputs": [],
   "source": [
    "#Test\n",
    "import numpy as np\n",
    "import pandas as pd\n",
    "import matplotlib as mat\n"
   ]
  },
  {
   "cell_type": "code",
   "execution_count": null,
   "metadata": {},
   "outputs": [],
   "source": [
    "print('Numpy: ',np.__version__)"
   ]
  },
  {
   "cell_type": "code",
   "execution_count": null,
   "metadata": {},
   "outputs": [],
   "source": [
    "print('Pandas: ',pd.__version__)"
   ]
  },
  {
   "cell_type": "code",
   "execution_count": null,
   "metadata": {},
   "outputs": [],
   "source": [
    "print('Matplotlib: ',mat.__version__)"
   ]
  },
  {
   "cell_type": "code",
   "execution_count": null,
   "metadata": {},
   "outputs": [],
   "source": [
    "import matplotlib.pyplot as plt "
   ]
  },
  {
   "cell_type": "markdown",
   "metadata": {},
   "source": [
    "# 4. Làm việc với tập tin trong Python\n",
    "---\n",
    "## 4.1) Read file"
   ]
  },
  {
   "cell_type": "code",
   "execution_count": null,
   "metadata": {},
   "outputs": [],
   "source": [
    "#Mở file để đọc dữ liệu\n",
    "f = open('FileDemo.txt')\n",
    "\n",
    "#Đọc nội dung của file vào biến st\n",
    "st = f.read()\n",
    "\n",
    "print('Nội dung file:')\n",
    "print(st)\n",
    "\n",
    "f.close()"
   ]
  },
  {
   "cell_type": "code",
   "execution_count": null,
   "metadata": {},
   "outputs": [],
   "source": [
    "#Mở file để đọc dữ liệu\n",
    "f = open('FileDemo.txt',\"r\")\n",
    "\n",
    "#Đọc 10 ký tự đầu tiên của file\n",
    "st1 = f.read(20)\n",
    "\n",
    "print(st1, ' -- Số ký tự là: ', len(st1))"
   ]
  },
  {
   "cell_type": "code",
   "execution_count": null,
   "metadata": {},
   "outputs": [],
   "source": [
    "#Mở file để đọc dữ liệu\n",
    "f = open('FileDemo.txt')\n",
    "\n",
    "#Đọc từng dòng dữ liệu của file\n",
    "print(f.readline())\n",
    "print(f.readline())\n",
    "\n",
    "f.close() #Đóng file dữ liệu"
   ]
  },
  {
   "cell_type": "code",
   "execution_count": null,
   "metadata": {},
   "outputs": [],
   "source": [
    "#Mở file để đọc dữ liệu\n",
    "f = open(\"FileDemo.txt\", \"r\")\n",
    "\n",
    "content = []\n",
    "\n",
    "#đọc tất cả các dòng của file\n",
    "for x in f:\n",
    "    content.append(x)\n",
    "\n",
    "print(content)\n",
    "f.close() #Đóng file dữ liệu"
   ]
  },
  {
   "cell_type": "markdown",
   "metadata": {},
   "source": [
    "## 4.2) Write file\n",
    "---"
   ]
  },
  {
   "cell_type": "code",
   "execution_count": null,
   "metadata": {},
   "outputs": [],
   "source": [
    "#Mở file với chế độ ghi đè (w):\n",
    "#nếu như file không tồn tại thì nó sẽ tạo mới file và ghi nội dung, \n",
    "#còn nếu như file đã tồn tại nó sẽ ghi đè nội dung lên file cũ.\n",
    "f1 = open('FileDemo1.txt', 'w')\n",
    "\n",
    "#Dữ liệu muốn ghi vào file\n",
    "st = 'Welcome to Python for Analysis.....123!'\n",
    "\n",
    "f1.write(st) #Ghi dữ liệu vào file\n",
    "f1.close() #Đóng file\n",
    "\n",
    "#Mở file mới ghi dữ liệu:\n",
    "f = open(\"FileDemo.txt\", \"r\")\n",
    "print(f.read())"
   ]
  },
  {
   "cell_type": "code",
   "execution_count": null,
   "metadata": {},
   "outputs": [],
   "source": [
    "#Mở file với chế độ ghi tiếp (a):\n",
    "# Nếu file đã tồn tại rồi thì nó sẽ ghi tiếp nội dung, \n",
    "# và nếu như file chưa tồn tại thì nó sẽ tạo một file mới và ghi nội dung vào đó.\n",
    "f1 = open('FileDemo1.txt', 'a+')\n",
    "\n",
    "#Dữ liệu muốn ghi vào file\n",
    "st = 'This is new line.....'\n",
    "\n",
    "f1.write(st) #Ghi tiếp dữ liệu vào file\n",
    "f1.close() #Đóng file"
   ]
  },
  {
   "cell_type": "code",
   "execution_count": null,
   "metadata": {},
   "outputs": [],
   "source": [
    "#open and read the file after the appending:\n",
    "f = open(\"FileDemo.txt\", \"r\")\n",
    "print(f.read())"
   ]
  },
  {
   "cell_type": "code",
   "execution_count": null,
   "metadata": {},
   "outputs": [],
   "source": [
    "#Lấy các thông số của file\n",
    "f2 = open('FileDemo1.txt')\n",
    "\n",
    "print('1.Tên file:',f2.name)\n",
    "print('2.Chế độ mở file:',f2.mode)\n",
    "print('3.Trạng thái đóng file:',f2.closed)"
   ]
  },
  {
   "cell_type": "markdown",
   "metadata": {},
   "source": [
    "# THỰC HÀNH\n",
    "---\n",
    "## BÀI 17: Đọc/ghi file\n",
    "Đọc dữ liệu trong file dayso1_bai17.txt:\n",
    "1. Tìm phần tử lớn nhất và nhỏ nhất trong dãy, sau đó thực hiện đổi chỗ phần tử lớn nhất xuất hiện đầu tiên trong dãy cho phần tử nhỏ nhất xuất hiện đầu tiên trong dãy.\n",
    "2. Lưu dãy mới đã đổi chỗ sang file dayso2_bai17.txt\n",
    "\n",
    "*Xem hình minh họa trong file slide bài giảng*"
   ]
  },
  {
   "cell_type": "code",
   "execution_count": null,
   "metadata": {},
   "outputs": [],
   "source": [
    "#{HỌC VIÊN VIẾT CODE Ở ĐÂY}\n",
    "\n",
    "\n",
    "\n",
    "\n"
   ]
  },
  {
   "cell_type": "code",
   "execution_count": null,
   "metadata": {},
   "outputs": [],
   "source": []
  },
  {
   "cell_type": "code",
   "execution_count": null,
   "metadata": {},
   "outputs": [],
   "source": []
  },
  {
   "cell_type": "code",
   "execution_count": null,
   "metadata": {},
   "outputs": [],
   "source": []
  }
 ],
 "metadata": {
  "kernelspec": {
   "display_name": "Python 3",
   "language": "python",
   "name": "python3"
  },
  "language_info": {
   "codemirror_mode": {
    "name": "ipython",
    "version": 3
   },
   "file_extension": ".py",
   "mimetype": "text/x-python",
   "name": "python",
   "nbconvert_exporter": "python",
   "pygments_lexer": "ipython3",
   "version": "3.7.1"
  }
 },
 "nbformat": 4,
 "nbformat_minor": 2
}
