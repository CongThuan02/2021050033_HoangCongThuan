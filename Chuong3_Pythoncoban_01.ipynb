{
 "cells": [
  {
   "cell_type": "markdown",
   "metadata": {},
   "source": [
    "<img src ='pic/Logo_CNTT_png.png' width='100px'>\n",
    "\n",
    "# CHƯƠNG 03: LẬP TRÌNH PYTHON CƠ BẢN - PHẦN 1\n",
    "---\n",
    "* Giảng Viên: Đặng Văn Nam\n",
    "* Email: dangvannam@humg.edu.vn\n",
    "\n",
    "---\n",
    "**NỘI DUNG BÀI 1:**\n",
    "1. Biến và khai báo biến trong Python\n",
    "2. Các kiểu dữ liệu cơ bản\n",
    "    * 2.1 Kiểu số: int, float\n",
    "    * 2.2 Kiểu chuỗi: str\n",
    "    * 2.3 Kiểu danh sách: list\n",
    "    * 2.4 Kiểu boolean: True - False\n"
   ]
  },
  {
   "cell_type": "markdown",
   "metadata": {},
   "source": [
    "### I/ Biến và khai báo biến trong Python\n",
    "----\n",
    "* Trong lập trình, biến (variable) là tên của một vùng trong bộ nhớ RAM, được sử dụng để lưu trữ thông tin. \n",
    "* Biến giống như một chiếc hộp có thể giúp chúng ta lưu trữ dữ liệu. Ta có thể gán thông tin cho một biến, và có thể lấy thông tin đó ra để sử dụng. \n",
    "* Khi một biến được khai báo, một vùng trong bộ nhớ sẽ dành cho các biến.\n",
    "* Biến là một thứ cực kì quan trọng trong lập trình mà không thể thiếu trong bất cứ chương trình lớn, nhỏ nào.\n"
   ]
  },
  {
   "cell_type": "code",
   "execution_count": null,
   "metadata": {},
   "outputs": [],
   "source": [
    "#Khai báo biến <tên biến > = giá trị\n",
    "\n",
    "hoten = 'Đặng Văn Nam'\n",
    "\n",
    "n_s = 1985\n",
    "\n",
    "diem_a = 9.8\n",
    "\n",
    "gt01 = ['M', 'F']\n",
    "\n",
    "gt02 = 'XYZ'\n",
    "\n",
    "kt = True"
   ]
  },
  {
   "cell_type": "code",
   "execution_count": null,
   "metadata": {},
   "outputs": [],
   "source": [
    "type(hoten)\n",
    "type(kt)"
   ]
  },
  {
   "cell_type": "markdown",
   "metadata": {},
   "source": [
    "**Một số quy tắc bắt buộc khi đặt tên biến, nếu vi phạm sẽ bị báo lỗi:**\n",
    "* Tên biến chỉ được chứa: \n",
    "    * Các ký tự chữ cái (a - z, A - Z) \n",
    "    * Các ký tự số (0-9)\n",
    "    * Dấu gạch dưới ( _ )\n",
    "* Tên biến không được bắt đầu bằng ký tự số\n",
    "* Phân biệt chữ hoa chữ thường (a # A)\n",
    "* Tên biến không được chứa các ký tự đặc biệt như “@,&...” hay các keywords trong Python. \n",
    "* Không được sử dụng dấu cách khi đặt tên biến\n",
    "* Tên biến nên được đặt theo một tên có ý nghĩa, có tính gợi nhớ.\n",
    "* Trường hợp tên biến gồm nhiều tiếng ghép lại, nên sử dụng dấu gạch nối."
   ]
  },
  {
   "cell_type": "code",
   "execution_count": null,
   "metadata": {},
   "outputs": [],
   "source": [
    "#Một số tên biến không hợp lệ:\n",
    "#lập trình C#\n",
    "int nam_sinh = 1985\n",
    "\n",
    "diem thi = 10\n",
    "\n",
    "03gt = 'Nữ'\n",
    "\n",
    "def = 'Nam'\n",
    "\n",
    "var@b = 2021"
   ]
  },
  {
   "cell_type": "markdown",
   "metadata": {},
   "source": [
    "## II/ Một số kiểu dữ liệu cơ bản\n",
    "---\n",
    "<img src='pic/pic1.png' width = '600px'>"
   ]
  },
  {
   "cell_type": "markdown",
   "metadata": {},
   "source": [
    "## 1.Kiểu số: Số nguyên, số thực\n",
    "---"
   ]
  },
  {
   "cell_type": "code",
   "execution_count": null,
   "metadata": {},
   "outputs": [],
   "source": [
    "a = 11\n",
    "\n",
    "b = 11.5\n",
    "\n",
    "print(type(a))\n",
    "print(type(b))"
   ]
  },
  {
   "cell_type": "code",
   "execution_count": null,
   "metadata": {},
   "outputs": [],
   "source": [
    "#Kiểu dữ liệu của phép chia\n",
    "c = a/b\n",
    "\n",
    "print(c, '-', type(c))"
   ]
  },
  {
   "cell_type": "code",
   "execution_count": null,
   "metadata": {},
   "outputs": [],
   "source": [
    "#Một số phép toán cơ bản trên kiểu dữ liệu số:\n",
    "\n",
    "a = 10\n",
    "b = 8\n",
    "#---------------------------------------------------------------\n",
    "tong = a + b             #Tổng của hai số (+)\n",
    "hieu = a - b             #Hiệu của hai số (-)\n",
    "tich = a*b               #Tích của hai số (*)\n",
    "thuong = a/b             #Thương của hai số (/)\n",
    "thuong_nguyen = a//b     #Phép chia lấy phần nguyên (//)\n",
    "thuong_du = a%b          #Phép chia lấy phần dư (%)\n",
    "mu = a**b                #Tính giá trị a lũy thừa b (**)\n"
   ]
  },
  {
   "cell_type": "code",
   "execution_count": null,
   "metadata": {},
   "outputs": [],
   "source": [
    "#---------------------------------------------------------------\n",
    "print(\"1. Tổng = \", tong)\n",
    "print(\"2. Hiệu = \", hieu)\n",
    "print(\"3. Tích = \", tich)\n",
    "print(\"4. Thương = \", thuong)\n",
    "print(\"5. Thương nguyên = \", thuong_nguyen)\n",
    "print(\"6. thương du = \", thuong_du)\n",
    "print(\"7. Lũy thừa = \", mu)"
   ]
  },
  {
   "cell_type": "markdown",
   "metadata": {},
   "source": [
    "* Biến trong Python rất linh hoạt, có thể chứa giá trị thuộc nhiều kiểu dữ liệu khác nhau. \n",
    "\n",
    "* Cú pháp: **type(biến)** sẽ giúp ta biết được kiểu dữ liệu của biến"
   ]
  },
  {
   "cell_type": "code",
   "execution_count": null,
   "metadata": {},
   "outputs": [],
   "source": [
    "#Kiểm tra kiểu dữ liệu của biến\n",
    "x = 1985\n",
    "\n",
    "y = 3.1415926535\n",
    "\n",
    "z ='HUMG in my mind'\n",
    "\n",
    "n = [5, 6, 7, 8, 9]\n",
    "\n",
    "b = True\n",
    "\n",
    "#----------------------------------------\n",
    "print('Kiểu dữ liệu biến x:', type(x))\n",
    "print('Kiểu dữ liệu biến y:', type(y))\n",
    "print('Kiểu dữ liệu biến z:', type(z))\n",
    "print('Kiểu dữ liệu biến n:', type(n))\n",
    "print('Kiểu dữ liệu biến b:', type(b))"
   ]
  },
  {
   "cell_type": "markdown",
   "metadata": {},
   "source": [
    "## 2.Kiểu dữ liệu chuỗi\n",
    "---\n",
    "Chuỗi có thể được để trong dấu nháy đơn ('...') hoặc kép (\"...\")"
   ]
  },
  {
   "cell_type": "code",
   "execution_count": null,
   "metadata": {},
   "outputs": [],
   "source": [
    "c1 = 'Python là ngôn ngữ lập trình số 1 hiện nay!'\n",
    "c2 = \"Python là ngôn ngữ lập trình số 1 hiện nay!\"\n",
    "\n",
    "print(c1)\n",
    "print(c2)"
   ]
  },
  {
   "cell_type": "code",
   "execution_count": null,
   "metadata": {},
   "outputs": [],
   "source": []
  },
  {
   "cell_type": "code",
   "execution_count": null,
   "metadata": {},
   "outputs": [],
   "source": []
  },
  {
   "cell_type": "code",
   "execution_count": null,
   "metadata": {},
   "outputs": [],
   "source": []
  },
  {
   "cell_type": "code",
   "execution_count": null,
   "metadata": {},
   "outputs": [],
   "source": [
    "#Khai báo chuỗi trên nhiều dòng\n",
    "a1 = \"\"\"Trong anh và em hôm nay\n",
    "Đều có một phần Đất Nước\n",
    "Khi hai đứa cầm tay\n",
    "Đất Nước trong chúng mình hài hoà nồng thắm\n",
    "Khi chúng ta cầm tay mọi người\n",
    "Đất nước vẹn tròn, to lớn.\"\"\"\n",
    "\n",
    "a2 = '''Trong anh và em hôm nay\n",
    "Đều có một phần Đất Nước\n",
    "Khi hai đứa cầm tay\n",
    "Đất Nước trong chúng mình hài hoà nồng thắm\n",
    "Khi chúng ta cầm tay mọi người\n",
    "Đất nước vẹn tròn, to lớn.'''\n",
    "\n",
    "print(a1)\n",
    "print('-------------------------------------------')\n",
    "print(a2)"
   ]
  },
  {
   "cell_type": "code",
   "execution_count": null,
   "metadata": {},
   "outputs": [],
   "source": [
    "#phân biệt giữa kiểu dữ liệu chuỗi và số\n",
    "a = 123\n",
    "print(\"Số: \", a)\n",
    "\n",
    "A = '123'\n",
    "print(\"Chuỗi: \", A)"
   ]
  },
  {
   "cell_type": "markdown",
   "metadata": {},
   "source": [
    "### Truy cập các phần tử của chuỗi:\n",
    "---\n",
    "* Các chuỗi được lập chỉ mục với ký tự đầu tiên được đánh số 0. \n",
    "* Chỉ số cũng có thể là số âm, bắt đầu đếm từ bên phải\n",
    "\n",
    "<img src = 'pic/pic2.png'>"
   ]
  },
  {
   "cell_type": "code",
   "execution_count": null,
   "metadata": {},
   "outputs": [],
   "source": [
    "a = 'Python for Analytics'\n",
    "\n",
    "print(a[0])\n",
    "\n",
    "print(a[-1])"
   ]
  },
  {
   "cell_type": "code",
   "execution_count": null,
   "metadata": {},
   "outputs": [],
   "source": [
    "#= cận dưới : < cận trên\n",
    "print(a[:10])\n",
    "\n",
    "print(a[2:6])"
   ]
  },
  {
   "cell_type": "markdown",
   "metadata": {},
   "source": [
    "### Một số thao tác với chuỗi\n",
    "---"
   ]
  },
  {
   "cell_type": "code",
   "execution_count": null,
   "metadata": {},
   "outputs": [],
   "source": [
    "# 1.Cho biết số ký tự của chuỗi: len(st)\n",
    "\n",
    "st = 'Python for Analytics'\n",
    "print('Số ký tự trong chuỗi st là:', len(st))"
   ]
  },
  {
   "cell_type": "code",
   "execution_count": null,
   "metadata": {},
   "outputs": [],
   "source": []
  },
  {
   "cell_type": "code",
   "execution_count": null,
   "metadata": {},
   "outputs": [],
   "source": []
  },
  {
   "cell_type": "code",
   "execution_count": null,
   "metadata": {},
   "outputs": [],
   "source": [
    "# 2.Chuyển chuỗi st thành chữ hoa (upper) – chữ thường (lower): st.upper() – st.lower()\n",
    "\n",
    "print('Chữ hoa: ',  st.upper())\n",
    "print('Chữ hoa: ',  st.lower())"
   ]
  },
  {
   "cell_type": "code",
   "execution_count": null,
   "metadata": {},
   "outputs": [],
   "source": []
  },
  {
   "cell_type": "code",
   "execution_count": null,
   "metadata": {},
   "outputs": [],
   "source": []
  },
  {
   "cell_type": "code",
   "execution_count": null,
   "metadata": {},
   "outputs": [],
   "source": [
    "# 3. Loại bỏ khoảng trắng ở đầu và cuối chuỗi: st.strip()\n",
    "st1 = \"   Python for Analytics   \"\n",
    "st1.strip()"
   ]
  },
  {
   "cell_type": "code",
   "execution_count": null,
   "metadata": {},
   "outputs": [],
   "source": []
  },
  {
   "cell_type": "code",
   "execution_count": null,
   "metadata": {},
   "outputs": [],
   "source": []
  },
  {
   "cell_type": "code",
   "execution_count": null,
   "metadata": {},
   "outputs": [],
   "source": []
  },
  {
   "cell_type": "code",
   "execution_count": null,
   "metadata": {},
   "outputs": [],
   "source": [
    "# 4. Thay thế một chuỗi s thành s1 trong chuỗi st: st. replace(s,s1)\n",
    "st_new = st.replace('Analytics', 'Machine Learning')\n",
    "print(st_new)"
   ]
  },
  {
   "cell_type": "code",
   "execution_count": null,
   "metadata": {},
   "outputs": [],
   "source": []
  },
  {
   "cell_type": "code",
   "execution_count": null,
   "metadata": {},
   "outputs": [],
   "source": []
  },
  {
   "cell_type": "code",
   "execution_count": null,
   "metadata": {},
   "outputs": [],
   "source": [
    "# 5. Để kiểm tra một chuỗi con có trong chuỗi st hay không? hãy dùng từ khóa in\n",
    "st_new = 'Python for Machine Learning'\n",
    "x = 'Machine' in st_new\n",
    "y = 'Analytics' in st_new\n",
    "\n",
    "#Trả về True nếu có trong chuỗi\n",
    "#Trả về False nếu ko có trong chuỗi\n",
    "\n",
    "print('Kết quả kiểm tra chuỗi \\'Machine\\': ',x )\n",
    "print('Kết quả kiểm tra chuỗi \\'Analytics\\': \\n',y )"
   ]
  },
  {
   "cell_type": "code",
   "execution_count": null,
   "metadata": {},
   "outputs": [],
   "source": []
  },
  {
   "cell_type": "code",
   "execution_count": null,
   "metadata": {},
   "outputs": [],
   "source": []
  },
  {
   "cell_type": "code",
   "execution_count": null,
   "metadata": {},
   "outputs": [],
   "source": []
  },
  {
   "cell_type": "code",
   "execution_count": null,
   "metadata": {},
   "outputs": [],
   "source": [
    "#6. Tách một chuỗi thành một danh sách (mảng 1 chiều): string.split(‘seperator’)\n",
    "st_new = 'Python for Machine Learning'\n",
    "\n",
    "#Mặc định tách chuỗi tại vị trí dấu cách\n",
    "list_st =  st_new.split()\n",
    "print(list_st)\n",
    "print(type(list_st))"
   ]
  },
  {
   "cell_type": "code",
   "execution_count": null,
   "metadata": {},
   "outputs": [],
   "source": []
  },
  {
   "cell_type": "code",
   "execution_count": null,
   "metadata": {},
   "outputs": [],
   "source": []
  },
  {
   "cell_type": "code",
   "execution_count": null,
   "metadata": {},
   "outputs": [],
   "source": [
    "st_new1 = 'Đỗ Thị Hà,2001,Thanh Hóa'\n",
    "\n",
    "#Tùy chọn vị trí tách theo tham số đưa vào\n",
    "list_st1 = st_new1.split(',')\n",
    "\n",
    "print(list_st1)"
   ]
  },
  {
   "cell_type": "code",
   "execution_count": null,
   "metadata": {},
   "outputs": [],
   "source": []
  },
  {
   "cell_type": "code",
   "execution_count": null,
   "metadata": {},
   "outputs": [],
   "source": []
  },
  {
   "cell_type": "code",
   "execution_count": null,
   "metadata": {},
   "outputs": [],
   "source": [
    "#7. Phương thức kiểm tra với chuỗi\n",
    "#------------------------------\n",
    "#st.isalpha():Kiểm tra chuỗi ký tự st có phải chỉ chứa ký tự thuộc bảng chữ cái hay không (a-z, A-Z)?\n",
    "#st.isdigit():Kiểm tra chuỗi ký tự st có phải chỉ chứa ký tự chữ số hay không (0-9)?\n",
    "#st.isalnum():Kiểm tra chuỗi ký tự st có phải chỉ chứa ký tự chữ cái  (a-z, A-Z) và ký tự số (0-9) hay không?\n",
    "#st.isupper():Kiểm tra chuỗi ký tự st có phải chỉ chứa ký tự chữ được viết hoa hay không (A-Z)?\n",
    "#st.islower():Kiểm tra chuỗi ký tự st có phải chỉ chứa ký tự chữ được viết hoa hay không (a-z)?\n"
   ]
  },
  {
   "cell_type": "markdown",
   "metadata": {},
   "source": [
    "### Chuyển đổi kiểu dữ liệu:\n",
    "---\n",
    "* str(biến_a): Chuyển kiểu dữ liệu của biến_a về kiểu chuỗi\n",
    "* int(biến_b): Chuyển kiểu dữ liệu của biến_b về kiểu số nguyên\n",
    "* float(biến_c): Chuyển kiểu dữ liệu của biến_c về kiểu số thực"
   ]
  },
  {
   "cell_type": "code",
   "execution_count": null,
   "metadata": {},
   "outputs": [],
   "source": [
    "a_chu = '2021'\n",
    "a_so = 1985\n",
    "\n",
    "#Chuyển từ chuỗi sang số\n",
    "so_nguyen = int(a_chu)\n",
    "so_thuc = float(a_chu)\n",
    "\n",
    "print('Kiểu dữ liệu biến so_nguyen:', type(so_nguyen), ' - giá trị: ', so_nguyen)\n",
    "print('Kiểu dữ liệu biến so_thuc:', type(so_thuc), ' - giá trị: ', so_thuc)\n",
    "\n",
    "#Chuyển đổi từ số sang chuỗi\n",
    "chuoi = str(a_so)\n",
    "print('Kiểu dữ liệu biến chuoi:', type(chuoi), ' - giá trị: ', chuoi)"
   ]
  },
  {
   "cell_type": "code",
   "execution_count": null,
   "metadata": {},
   "outputs": [],
   "source": []
  },
  {
   "cell_type": "code",
   "execution_count": null,
   "metadata": {},
   "outputs": [],
   "source": [
    "#Ví dụ: Chuẩn hóa chuỗi s = '   Python for     Machine    Learning      '\n",
    "# thành chuỗi: python for machine learning\n",
    "\n",
    "s = '   Python for     Machine    LearNiNg      '\n",
    "s = s.strip()\n",
    "\n",
    "while ('  ' in s):\n",
    "    s = s.replace('  ',' ')\n",
    "\n",
    "s = s.lower()\n",
    "print(s)"
   ]
  },
  {
   "cell_type": "markdown",
   "metadata": {},
   "source": [
    "## THỰC HÀNH\n",
    "---"
   ]
  },
  {
   "cell_type": "markdown",
   "metadata": {},
   "source": [
    "## Bài 1: Chia kẹo cho học sinh lớp 1\n",
    "----\n",
    "Cô có n cái kẹo, có m học sinh trong lớp. Hãy giúp cô chia đều số kẹo cho tất cả học sinh.\n",
    "\n",
    "**Yêu cầu:**\n",
    "* Nhập vào số kẹo của cô – N\n",
    "* Nhập vào số học sinh trong lớp – M\n",
    "\n",
    "\n",
    "Cho biết:\n",
    "1. Mỗi học sinh được nhận bao nhiêu cái kẹo?\n",
    "2. Cô còn lại bao nhiêu cái kẹo?\n"
   ]
  },
  {
   "cell_type": "code",
   "execution_count": null,
   "metadata": {},
   "outputs": [],
   "source": [
    "#{HỌC VIÊN VIẾT CODE Ở ĐÂY!}\n",
    "\n",
    "\n",
    "\n"
   ]
  },
  {
   "cell_type": "markdown",
   "metadata": {},
   "source": [
    "# Bài 2: Tính tuổi\n",
    "---\n",
    "Nhập vào tên và năm sinh của một người, tính tuổi của người đó và hiển thị ra màn hình thông báo \n",
    "\n",
    "Yêu cầu:\n",
    "\n",
    "* Nhập vào họ tên: mai phương thúy\n",
    "* Nhập vào năm sinh: 2000\n",
    "\n",
    "Hiển thị thông báo kết quả:\n",
    "\t **Bạn “MAI PHƯƠNG THÚY” năm nay 19 tuổi!**\n",
    "\n",
    "\n"
   ]
  },
  {
   "cell_type": "code",
   "execution_count": null,
   "metadata": {},
   "outputs": [],
   "source": [
    "#{HỌC VIÊN VIẾT CODE Ở ĐÂY!}\n",
    "\n",
    "\n",
    "\n",
    "\n"
   ]
  },
  {
   "cell_type": "markdown",
   "metadata": {},
   "source": [
    "# Bài 3: Cho biết số thỏ trong rừng!\n",
    "---\n",
    "Ban đầu trong rừng có một cặp thỏ, biết rằng cứ sau 1 tháng thì số lượng thỏ trong rừng tăng lên gấp đôi. Hỏi sau x tháng thì trong rừng có bao nhiêu con thỏ (Giả thiết các con thỏ không chết)\n",
    "\n",
    "Yêu cầu: \n",
    "* Nhập vào số tháng x: 3\n",
    "* Hiển thị thông báo kết quả:\n",
    "\t **Trong rừng có: 16 con thỏ**"
   ]
  },
  {
   "cell_type": "code",
   "execution_count": null,
   "metadata": {},
   "outputs": [],
   "source": [
    "#{HỌC VIÊN VIẾT CODE Ở ĐÂY!}\n",
    "\n",
    "\n",
    "\n",
    "\n"
   ]
  },
  {
   "cell_type": "markdown",
   "metadata": {},
   "source": [
    "# Bài 4: Chuỗi văn bản\n",
    "---\n",
    "\n",
    "“Nước Việt Nam là một, dân tộc Việt Nam là một. Sông có thể cạn núi có thể mòn, song chân lý ấy không bao giờ thay đổi. (HỒ CHÍ MINH, 1890 – 1969)”\n",
    "\n",
    "Yêu cầu: \n",
    "1. Cho biết số ký tự có trong đoạn văn trên.\n",
    "2. Cho biết trong đoạn có chứa từ nào sau đây không (Không phân biệt chữ hoa, chữ thường)?\n",
    "    * “hồ chí minh”\n",
    "    * “non sông”\n",
    "3. Tách đoạn văn thành các câu bởi dấu .\n",
    "4. Cho biết trong đoạn văn trên có ký tự nào khác ký tự chữ và số hay không?\n",
    "5. Thay thế các các từ ‘Việt Nam’ bằng ‘VIỆT NAM’ trong đoạn văn trên.\n"
   ]
  },
  {
   "cell_type": "code",
   "execution_count": null,
   "metadata": {},
   "outputs": [],
   "source": [
    "#{HỌC VIÊN VIẾT CODE Ở ĐÂY!}\n",
    "\n",
    "\n",
    "\n",
    "\n"
   ]
  },
  {
   "cell_type": "code",
   "execution_count": null,
   "metadata": {},
   "outputs": [],
   "source": []
  },
  {
   "cell_type": "markdown",
   "metadata": {},
   "source": [
    "# 3. Kiểu dữ liệu danh sách (list)\n",
    "---\n",
    "Giả sử ta có nhu cầu lưu danh sách tên tất cả học sinh trong lớp học. Nếu lớp học ít:\n",
    "\n",
    "<img src = 'pic/list.png'>\n",
    "\n",
    "Nhưng nếu trong lớp có hàng chục, hàng trăm học sinh thì điều đó thật sự rất khó khăn, khó kiểm soát, quản lý.---> Kiểu dữ liệu danh sách (list) ra đời giúp chúng ta có thể khai báo, lưu trữ, truy xuất một dãy các đối tượng.\n",
    "\n",
    "\n",
    "**Khai báo list:**\n",
    "\n",
    "<tên_danh_sách> = [<Phần tử 1>,<Phần tử 2>,….,<Phần tử n>]\n"
   ]
  },
  {
   "cell_type": "code",
   "execution_count": null,
   "metadata": {},
   "outputs": [],
   "source": [
    "nam_sinh = 1985\n",
    "diem = 9.5\n",
    "ten = 'HUMG in my Mind'"
   ]
  },
  {
   "cell_type": "code",
   "execution_count": null,
   "metadata": {},
   "outputs": [],
   "source": [
    "#Khai báo list:\n",
    "#Khai báo danh sách hoc_sinh gồm chuỗi tên của các học sinh trong lớp\n",
    "hoc_sinh = ['Lê Thùy Dung', 'Trần Đức Hùng',' Nguyễn Thị Lan Anh', 'Mai Phương Thúy']\n",
    "print(hoc_sinh)\n"
   ]
  },
  {
   "cell_type": "code",
   "execution_count": null,
   "metadata": {},
   "outputs": [],
   "source": [
    "type(hoc_sinh)"
   ]
  },
  {
   "cell_type": "code",
   "execution_count": null,
   "metadata": {},
   "outputs": [],
   "source": []
  },
  {
   "cell_type": "code",
   "execution_count": null,
   "metadata": {},
   "outputs": [],
   "source": [
    "#Khai báo danh sách diem\n",
    "diem = [8, 9.5, 7, 5.5 , 9, 9.75, 8.5, 7.25]\n",
    "print(diem)"
   ]
  },
  {
   "cell_type": "code",
   "execution_count": null,
   "metadata": {},
   "outputs": [],
   "source": [
    "type(diem)"
   ]
  },
  {
   "cell_type": "code",
   "execution_count": null,
   "metadata": {},
   "outputs": [],
   "source": []
  },
  {
   "cell_type": "code",
   "execution_count": null,
   "metadata": {},
   "outputs": [],
   "source": [
    "#Khai báo danh sách với nhiều kiểu dữ liệu khác nhau\n",
    "person_info = ['Đỗ Thị Hà', 2001, 'Thanh Hóa', 175, 50.5]\n",
    "print(person_info)"
   ]
  },
  {
   "cell_type": "code",
   "execution_count": null,
   "metadata": {},
   "outputs": [],
   "source": []
  },
  {
   "cell_type": "code",
   "execution_count": null,
   "metadata": {},
   "outputs": [],
   "source": []
  },
  {
   "cell_type": "code",
   "execution_count": null,
   "metadata": {},
   "outputs": [],
   "source": [
    "#Khai báo dánh sách rỗng\n",
    "list_rong = []\n",
    "print(list_rong)"
   ]
  },
  {
   "cell_type": "code",
   "execution_count": null,
   "metadata": {},
   "outputs": [],
   "source": []
  },
  {
   "cell_type": "code",
   "execution_count": null,
   "metadata": {},
   "outputs": [],
   "source": []
  },
  {
   "cell_type": "markdown",
   "metadata": {},
   "source": [
    "### Để truy cập lấy giá trị tại một phần tử trong danh sách <tên_danh_sách>  [<chỉ số>]"
   ]
  },
  {
   "cell_type": "code",
   "execution_count": null,
   "metadata": {},
   "outputs": [],
   "source": [
    "hoc_sinh"
   ]
  },
  {
   "cell_type": "code",
   "execution_count": null,
   "metadata": {},
   "outputs": [],
   "source": [
    "\n",
    "print('Học sinh thứ 3:',hoc_sinh[-1])\n"
   ]
  },
  {
   "cell_type": "code",
   "execution_count": null,
   "metadata": {},
   "outputs": [],
   "source": [
    "person_info"
   ]
  },
  {
   "cell_type": "code",
   "execution_count": null,
   "metadata": {},
   "outputs": [],
   "source": [
    "print('Họ tên:', person_info[0], ' - Cân nặng: ',person_info[-1] )\n",
    "\n"
   ]
  },
  {
   "cell_type": "code",
   "execution_count": null,
   "metadata": {},
   "outputs": [],
   "source": [
    "diem"
   ]
  },
  {
   "cell_type": "code",
   "execution_count": null,
   "metadata": {},
   "outputs": [],
   "source": [
    "print(diem[2:6])"
   ]
  },
  {
   "cell_type": "code",
   "execution_count": null,
   "metadata": {},
   "outputs": [],
   "source": [
    "index 2, 3, 4"
   ]
  },
  {
   "cell_type": "code",
   "execution_count": null,
   "metadata": {},
   "outputs": [],
   "source": []
  },
  {
   "cell_type": "markdown",
   "metadata": {},
   "source": [
    "### Để thay đổi giá trị tại một phần tử trong danh sách: <tên_danh_sách> [<chỉ số>] = <giá trị mới>"
   ]
  },
  {
   "cell_type": "code",
   "execution_count": null,
   "metadata": {},
   "outputs": [],
   "source": [
    "print('Ban đầu:', hoc_sinh)"
   ]
  },
  {
   "cell_type": "code",
   "execution_count": null,
   "metadata": {},
   "outputs": [],
   "source": [
    "hoc_sinh[2]"
   ]
  },
  {
   "cell_type": "code",
   "execution_count": null,
   "metadata": {},
   "outputs": [],
   "source": [
    "hoc_sinh[2] = 'Thân Trọng Nam'\n",
    "\n",
    "print('Danh sách mới:', hoc_sinh)"
   ]
  },
  {
   "cell_type": "code",
   "execution_count": null,
   "metadata": {},
   "outputs": [],
   "source": [
    "print('Ban đầu:', diem)\n",
    "diem[-1] = 4\n",
    "\n",
    "print('Danh sách mới:', diem)"
   ]
  },
  {
   "cell_type": "markdown",
   "metadata": {},
   "source": [
    "### Nối hai danh sách\n"
   ]
  },
  {
   "cell_type": "code",
   "execution_count": null,
   "metadata": {},
   "outputs": [],
   "source": [
    "list_a = [8, 4, 8, 2]\n",
    "list_b = [3, 0, 8, 6, 5, 8]\n",
    "\n",
    "#Nối hai danh sách sử dụng toán tử +\n",
    "\n",
    "list_ab = list_a + list_b\n",
    "print(list_ab)"
   ]
  },
  {
   "cell_type": "code",
   "execution_count": null,
   "metadata": {},
   "outputs": [],
   "source": []
  },
  {
   "cell_type": "code",
   "execution_count": null,
   "metadata": {},
   "outputs": [],
   "source": []
  },
  {
   "cell_type": "code",
   "execution_count": null,
   "metadata": {},
   "outputs": [],
   "source": [
    "st1 = 'I Love'\n",
    "st2 =' You'\n",
    "st = st1+st2\n",
    "print(st)"
   ]
  },
  {
   "cell_type": "code",
   "execution_count": null,
   "metadata": {},
   "outputs": [],
   "source": []
  },
  {
   "cell_type": "code",
   "execution_count": null,
   "metadata": {},
   "outputs": [],
   "source": []
  },
  {
   "cell_type": "code",
   "execution_count": null,
   "metadata": {},
   "outputs": [],
   "source": []
  },
  {
   "cell_type": "code",
   "execution_count": null,
   "metadata": {},
   "outputs": [],
   "source": [
    "# Lấy độ dài của danh sách len(list): kết quả trả về một số nguyên là số phần tử của danh sách\n",
    "\n",
    "print(list_ab, ' Có số phần tử là: ', len(list_ab))"
   ]
  },
  {
   "cell_type": "code",
   "execution_count": null,
   "metadata": {},
   "outputs": [],
   "source": []
  },
  {
   "cell_type": "code",
   "execution_count": null,
   "metadata": {},
   "outputs": [],
   "source": []
  },
  {
   "cell_type": "code",
   "execution_count": null,
   "metadata": {},
   "outputs": [],
   "source": []
  },
  {
   "cell_type": "code",
   "execution_count": null,
   "metadata": {},
   "outputs": [],
   "source": []
  },
  {
   "cell_type": "code",
   "execution_count": null,
   "metadata": {},
   "outputs": [],
   "source": [
    "# Kiểm tra một phần tử có thuộc danh sách hay không (in): kết quả trả về một danh sách mới.\n",
    "print(list_ab)\n",
    "\n",
    "#Kiểm tra phần tử 0:\n",
    "bol_0 = 0 in list_ab\n",
    "print('Phần tử 0 có thuộc list_ab?', bol_0)\n",
    "\n",
    "#Kiểm tra phần tử 9:\n",
    "bol_9 = 9 in list_ab\n",
    "print('Phần tử 9 có thuộc list_ab?', bol_9)"
   ]
  },
  {
   "cell_type": "code",
   "execution_count": null,
   "metadata": {},
   "outputs": [],
   "source": []
  },
  {
   "cell_type": "code",
   "execution_count": null,
   "metadata": {},
   "outputs": [],
   "source": []
  },
  {
   "cell_type": "code",
   "execution_count": null,
   "metadata": {},
   "outputs": [],
   "source": []
  },
  {
   "cell_type": "markdown",
   "metadata": {},
   "source": [
    "### Thêm một phần tử vào danh sách: có hai cách\n",
    "---\n",
    "1. Thêm phần tử vào cuối danh sách: \n",
    "\t\t<danh_sách>.append(<giá trị>)\n",
    "        \n",
    "2. Thêm phần tử vào vị trí bất kỳ trong danh sách: \n",
    "\t\t<danh_sách>.insert(<vị trí>,<giá trị>)\n"
   ]
  },
  {
   "cell_type": "code",
   "execution_count": null,
   "metadata": {},
   "outputs": [],
   "source": [
    "print('Danh sách ban đầu: \\n', list_ab)\n",
    "\n",
    "#Thêm phần tử vào cuối danh sách:\n",
    "list_ab.append(10)\n",
    "print('Danh sách thêm vào cuối:', list_ab)\n"
   ]
  },
  {
   "cell_type": "code",
   "execution_count": null,
   "metadata": {},
   "outputs": [],
   "source": []
  },
  {
   "cell_type": "code",
   "execution_count": null,
   "metadata": {},
   "outputs": [],
   "source": []
  },
  {
   "cell_type": "code",
   "execution_count": null,
   "metadata": {},
   "outputs": [],
   "source": [
    "#thêm vào vị trí bất kỳ trong danh sách\n",
    "list_ab.insert(0, 0)\n",
    "print('Thêm vào vị trí số 1:', list_ab)"
   ]
  },
  {
   "cell_type": "code",
   "execution_count": null,
   "metadata": {},
   "outputs": [],
   "source": []
  },
  {
   "cell_type": "code",
   "execution_count": null,
   "metadata": {},
   "outputs": [],
   "source": []
  },
  {
   "cell_type": "markdown",
   "metadata": {},
   "source": [
    "### Xóa phần tử khỏi danh sách: \n",
    "---\n",
    "1. Xóa phần tử tại vị trí cuối cùng trong danh sách:\n",
    "\t\t<danh_sách>.pop()\n",
    "        \n",
    "2. Xóa phần tử tại vị trí xác định trong danh sách: \n",
    "\t\tdel <danh_sách>[<vị trí>]\n",
    "        \n",
    "3. Xóa phần tử có giá trị xuất hiện đầu tiên trong danh sách: \n",
    "\t\t<danh_sách>.remove(<giá trị>)\n"
   ]
  },
  {
   "cell_type": "code",
   "execution_count": null,
   "metadata": {},
   "outputs": [],
   "source": [
    "print(list_ab)"
   ]
  },
  {
   "cell_type": "code",
   "execution_count": null,
   "metadata": {},
   "outputs": [],
   "source": [
    "#Xóa phần tử cuối:\n",
    "list_ab.pop()\n",
    "print('Danh sách đã xóa phần tử cuối cùng:', list_ab)"
   ]
  },
  {
   "cell_type": "code",
   "execution_count": null,
   "metadata": {},
   "outputs": [],
   "source": []
  },
  {
   "cell_type": "code",
   "execution_count": null,
   "metadata": {},
   "outputs": [],
   "source": []
  },
  {
   "cell_type": "code",
   "execution_count": null,
   "metadata": {},
   "outputs": [],
   "source": []
  },
  {
   "cell_type": "code",
   "execution_count": null,
   "metadata": {},
   "outputs": [],
   "source": []
  },
  {
   "cell_type": "code",
   "execution_count": null,
   "metadata": {},
   "outputs": [],
   "source": []
  },
  {
   "cell_type": "code",
   "execution_count": null,
   "metadata": {},
   "outputs": [],
   "source": []
  },
  {
   "cell_type": "code",
   "execution_count": null,
   "metadata": {},
   "outputs": [],
   "source": [
    "#Xóa phần tử tại vị trí số 1:\n",
    "del list_ab[1]\n",
    "print('Danh sách đã xóa phần tử ở vị trí số 1:', list_ab)"
   ]
  },
  {
   "cell_type": "code",
   "execution_count": null,
   "metadata": {},
   "outputs": [],
   "source": []
  },
  {
   "cell_type": "code",
   "execution_count": null,
   "metadata": {},
   "outputs": [],
   "source": []
  },
  {
   "cell_type": "code",
   "execution_count": null,
   "metadata": {},
   "outputs": [],
   "source": []
  },
  {
   "cell_type": "code",
   "execution_count": null,
   "metadata": {},
   "outputs": [],
   "source": [
    "#Xóa phần tử 8 xuất hiện đầu tiên trong dánh sách\n",
    "list_ab.remove(8)\n",
    "print('Danh sách đã xóa phần tử 8 đầu tiên:', list_ab)"
   ]
  },
  {
   "cell_type": "code",
   "execution_count": null,
   "metadata": {},
   "outputs": [],
   "source": []
  },
  {
   "cell_type": "code",
   "execution_count": null,
   "metadata": {},
   "outputs": [],
   "source": []
  },
  {
   "cell_type": "code",
   "execution_count": null,
   "metadata": {},
   "outputs": [],
   "source": []
  },
  {
   "cell_type": "markdown",
   "metadata": {},
   "source": [
    "### Đếm số lần xuất hiện của một phần tử trong danh sách: \n",
    "\t\t\t<danh_sách>.count(<giá trị>)\n"
   ]
  },
  {
   "cell_type": "code",
   "execution_count": null,
   "metadata": {},
   "outputs": [],
   "source": [
    "print (list_ab)\n",
    "\n",
    "print('Số 8 xuất hiện:', list_ab.count(8))\n",
    "\n",
    "print('Số 0 xuất hiện:', list_ab.count(0))\n",
    "\n",
    "print('Số 9 xuất hiện:', list_ab.count(9))"
   ]
  },
  {
   "cell_type": "markdown",
   "metadata": {},
   "source": [
    "### NOTE: phép gán và thay đổi giá trị với danh sách\n",
    "---"
   ]
  },
  {
   "cell_type": "code",
   "execution_count": null,
   "metadata": {},
   "outputs": [],
   "source": [
    "#Lưu ý\n",
    "ds_a = [4, 5, 8, 9]\n",
    "\n",
    "ds_b = ds_a #gán giá trị của biến ds_a cho biến ds_b\n",
    "\n",
    "print('Danh sách a:', ds_a)\n",
    "print('Danh sách b:', ds_b)"
   ]
  },
  {
   "cell_type": "code",
   "execution_count": null,
   "metadata": {},
   "outputs": [],
   "source": []
  },
  {
   "cell_type": "code",
   "execution_count": null,
   "metadata": {},
   "outputs": [],
   "source": []
  },
  {
   "cell_type": "code",
   "execution_count": null,
   "metadata": {},
   "outputs": [],
   "source": [
    "#Thay đổi giá trị của một biến\n",
    "ds_b[0] = 100\n",
    "\n",
    "print('Danh sách a:', ds_a)\n",
    "print('Danh sách b:', ds_b)"
   ]
  },
  {
   "cell_type": "code",
   "execution_count": null,
   "metadata": {},
   "outputs": [],
   "source": []
  },
  {
   "cell_type": "code",
   "execution_count": null,
   "metadata": {},
   "outputs": [],
   "source": []
  },
  {
   "cell_type": "code",
   "execution_count": null,
   "metadata": {},
   "outputs": [],
   "source": [
    "ds_a[-1] = 10\n",
    "\n",
    "print('Danh sách a:', ds_a)\n",
    "print('Danh sách b:', ds_b)"
   ]
  },
  {
   "cell_type": "code",
   "execution_count": null,
   "metadata": {},
   "outputs": [],
   "source": []
  },
  {
   "cell_type": "code",
   "execution_count": null,
   "metadata": {},
   "outputs": [],
   "source": []
  },
  {
   "cell_type": "code",
   "execution_count": null,
   "metadata": {},
   "outputs": [],
   "source": [
    "#Để tạo một danh sách độc lập với danh sách hiện có, các phần tử trong danh sách mới được sao chép giống hoàn toàn các phần tử trong danh sách hiện có:\n",
    "#\t\t<danh sách>.copy()\n",
    "\n",
    "ds_a = [4, 5, 8, 9]\n",
    "\n",
    "ds_b = ds_a.copy()\n",
    "\n",
    "ds_b[0]=100\n",
    "\n",
    "print('Danh sách a:', ds_a)\n",
    "print('Danh sách b:', ds_b)"
   ]
  },
  {
   "cell_type": "code",
   "execution_count": null,
   "metadata": {},
   "outputs": [],
   "source": [
    "ndarray, dataframe"
   ]
  },
  {
   "cell_type": "markdown",
   "metadata": {},
   "source": [
    "## 4. Kiểu dữ liệu Boolean\n",
    "---\n",
    "Kiểu dữ liệu Boolean chỉ có hai giá trị True (đúng) và False (sai):"
   ]
  },
  {
   "cell_type": "code",
   "execution_count": null,
   "metadata": {},
   "outputs": [],
   "source": [
    "#Khai báo biến kiểu dữ liệu Boolean:\n",
    "x = True\n",
    "y = False\n",
    "\n",
    "#Khai báo biến kiểu boolean qua biểu thức:\n",
    "z = 5 > 8\n",
    "w = 12 == 12\n",
    "\n",
    "#--------------------------------------------\n",
    "print('Kiểu dữ liệu của biến x:', type(x), ' - Giá trị:', x)\n",
    "print('Kiểu dữ liệu của biến y:', type(y), ' - Giá trị:', y)\n",
    "print('Kiểu dữ liệu của biến z:', type(z), ' - Giá trị:', z)\n",
    "print('Kiểu dữ liệu của biến w:', type(w), ' - Giá trị:', w)"
   ]
  },
  {
   "cell_type": "code",
   "execution_count": null,
   "metadata": {},
   "outputs": [],
   "source": [
    "a = 10\n",
    "b = 8\n",
    "#---------------------------------\n",
    "kt = a>b\n",
    "print(kt)\n",
    "print(type(kt))"
   ]
  },
  {
   "cell_type": "markdown",
   "metadata": {},
   "source": [
    "# THỰC HÀNH\n",
    "---"
   ]
  },
  {
   "cell_type": "markdown",
   "metadata": {},
   "source": [
    "## Bài 5: Thống kê điểm Học viên\n",
    "---\n",
    "\n",
    "Khởi tạo một danh sách gồm các điểm thi môn “Python for Analysis” của lớp AIV_EVNICT (Điểm chữ: A, B, C, D, F)\n",
    "\n",
    "**Yêu cầu:** \n",
    "1. Cho biết số sinh viên trong lớp\n",
    "2. Có bao nhiêu sinh viên phải học lại môn này (điểm F).\n",
    "3. Có bao nhiêu sinh viên có điểm từ B trở lên.\n",
    "4. Sinh viên đầu tiên và cuối cùng trong lớp đã nghỉ học, tạo một bảng điểm mới và loại bỏ điểm của các sinh viên này ra "
   ]
  },
  {
   "cell_type": "code",
   "execution_count": null,
   "metadata": {},
   "outputs": [],
   "source": [
    "#{HỌC VIÊN VIẾT CODE Ở ĐÂY!}\n",
    "\n",
    "\n",
    "\n",
    "\n",
    "\n",
    "\n"
   ]
  }
 ],
 "metadata": {
  "kernelspec": {
   "display_name": "Python 3",
   "language": "python",
   "name": "python3"
  },
  "language_info": {
   "codemirror_mode": {
    "name": "ipython",
    "version": 3
   },
   "file_extension": ".py",
   "mimetype": "text/x-python",
   "name": "python",
   "nbconvert_exporter": "python",
   "pygments_lexer": "ipython3",
   "version": "3.7.1"
  }
 },
 "nbformat": 4,
 "nbformat_minor": 2
}
