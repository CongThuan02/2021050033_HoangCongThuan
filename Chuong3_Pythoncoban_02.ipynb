{
 "cells": [
  {
   "cell_type": "markdown",
   "metadata": {},
   "source": [
    "<img src ='pic/Logo_CNTT_png.png' width='100px'>\n",
    "\n",
    "## CHƯƠNG 3: LẬP TRÌNH PYTHON CƠ BẢN - PHẦN 2\n",
    "---\n",
    "* Giảng viên: Đặng Văn Nam\n",
    "* Email: dangvannam@humg.edu.vn\n",
    "\n",
    "---\n",
    "**NỘI DUNG BÀI HỌC:**\n",
    "1. Các toán tử cơ bản trong Python:\n",
    "    * Toán tử số học\n",
    "    * Toán tử so sánh\n",
    "    * Toán tử logic\n",
    "    * Toán tử membership\n",
    "2. Cấu trúc điều khiển (Dạng 1, dạng 2, dạng 3, dạng 4) \n",
    "3. Cấu trúc vòng lặp \n",
    "    * Vòng lặp không biết trước số lần lặp while\n",
    "    * Vòng lặp biết trước số lần lặp for\n",
    "    * Break\n",
    "    * Continue"
   ]
  },
  {
   "cell_type": "markdown",
   "metadata": {},
   "source": [
    "## 1. Toán tử số học, so sánh, logic trong Python\n",
    "---"
   ]
  },
  {
   "cell_type": "code",
   "execution_count": null,
   "metadata": {},
   "outputs": [],
   "source": [
    "# A|Các toán tử số học trong python\n",
    "a = 10\n",
    "b = 8\n",
    "#----------------------------------\n",
    "\n",
    "print ('Tổng          a + b  = ', a + b) \n",
    "print ('Hiệu          a - b  = ', a - b) \n",
    "print ('Tích          a * b  = ', a * b) \n",
    "print ('Thương        a / b  = ', a / b) \n",
    "print ('Thương nguyên a // b = ', a // b) \n",
    "print ('Thương dư     a % b  = ', a % b) \n",
    "print ('Mũ            a ** b = ', a ** b) "
   ]
  },
  {
   "cell_type": "code",
   "execution_count": null,
   "metadata": {},
   "outputs": [],
   "source": []
  },
  {
   "cell_type": "code",
   "execution_count": null,
   "metadata": {},
   "outputs": [],
   "source": []
  },
  {
   "cell_type": "code",
   "execution_count": null,
   "metadata": {},
   "outputs": [],
   "source": [
    "# B| Các toán tử so sánh trong Python:\n",
    "#Kết quả của các phép so sánh có kiểu dữ liệu Boolean\n",
    "a = 10\n",
    "b = 8\n",
    "#-----------------------------------------------------\n",
    "print('1) SS lớn hơn (a>b):', a>b)\n",
    "print('2) SS nhỏ hơn (a<b):', a<b)\n",
    "print('3) SS bằng    (a=b):', a==b)\n",
    "print('4) SS lớn hơn hoặc bằng (a>=b):', a>=b)\n",
    "print('5) SS nhỏ hơn hoặc bằng (a<=b):', a<=b)\n",
    "print('6) SS khác   (a!=b):', a!=b)"
   ]
  },
  {
   "cell_type": "code",
   "execution_count": null,
   "metadata": {},
   "outputs": [],
   "source": []
  },
  {
   "cell_type": "code",
   "execution_count": null,
   "metadata": {},
   "outputs": [],
   "source": []
  },
  {
   "cell_type": "code",
   "execution_count": null,
   "metadata": {},
   "outputs": [],
   "source": []
  },
  {
   "cell_type": "code",
   "execution_count": null,
   "metadata": {},
   "outputs": [],
   "source": []
  },
  {
   "cell_type": "code",
   "execution_count": null,
   "metadata": {},
   "outputs": [],
   "source": []
  },
  {
   "cell_type": "code",
   "execution_count": null,
   "metadata": {},
   "outputs": [],
   "source": [
    "#C| Các toán tử Logic trong Python\n",
    "x = 15\n",
    "y = True\n",
    "\n",
    "kt = (x>3) and (x<10) #hoặc kt = (x>3) & (x<10)\n",
    "kt2 = (x>3) or (x<10) #hoặc kt = (x>3) | (x<10)\n",
    "kt3 = not y\n",
    "\n",
    "#---------------------------------\n",
    "print ('1) Phép toán AND:', kt)\n",
    "print ('2) Phép toán OR :', kt2)\n",
    "print ('3) Phép toán NOT:', kt3)"
   ]
  },
  {
   "cell_type": "code",
   "execution_count": null,
   "metadata": {},
   "outputs": [],
   "source": []
  },
  {
   "cell_type": "code",
   "execution_count": null,
   "metadata": {},
   "outputs": [],
   "source": []
  },
  {
   "cell_type": "code",
   "execution_count": null,
   "metadata": {},
   "outputs": [],
   "source": []
  },
  {
   "cell_type": "code",
   "execution_count": null,
   "metadata": {},
   "outputs": [],
   "source": []
  },
  {
   "cell_type": "code",
   "execution_count": null,
   "metadata": {},
   "outputs": [],
   "source": [
    "#D| Các toán tử membership\n",
    "a = [4, 6, 9 , 0]\n",
    "kt1 = 4 in a        #Kiểm tra 1 phần tử có trong danh sách không?\n",
    "kt2 = 1 not in a    #Kiểm tra 1 phần tử không có trong trong danh sách không?\n",
    "\n",
    "print('Kết quả 1: ', kt1)\n",
    "print('Kết quả 2:', kt2)"
   ]
  },
  {
   "cell_type": "code",
   "execution_count": null,
   "metadata": {},
   "outputs": [],
   "source": []
  },
  {
   "cell_type": "markdown",
   "metadata": {},
   "source": [
    "## 2) Cấu trúc điều khiển\n",
    "---"
   ]
  },
  {
   "cell_type": "code",
   "execution_count": null,
   "metadata": {},
   "outputs": [],
   "source": [
    "#Example:Câu lệnh điều kiện\n",
    "so_tien = input('Nhập vào số tiền bạn có:')\n",
    "so_tien=int(so_tien)\n",
    "if (so_tien>=1000000000):\n",
    "    print('Bạn đã là một tỷ phú!')\n",
    "    print('Chúc mừng bạn.....')\n",
    "    print('--------------------------------')\n",
    "else:\n",
    "    print('Bạn còn phải kiếm nhiều tiền hơn nhé!')\n",
    "    print('Còn thiếu ', 1E9-so_tien)\n",
    "    \n",
    "print('Câu lệnh cuối cùng - End')"
   ]
  },
  {
   "cell_type": "code",
   "execution_count": null,
   "metadata": {},
   "outputs": [],
   "source": []
  },
  {
   "cell_type": "code",
   "execution_count": null,
   "metadata": {},
   "outputs": [],
   "source": []
  },
  {
   "cell_type": "code",
   "execution_count": null,
   "metadata": {},
   "outputs": [],
   "source": []
  },
  {
   "cell_type": "code",
   "execution_count": null,
   "metadata": {},
   "outputs": [],
   "source": [
    "#============DẠNG 1 ======================\n",
    "\n",
    "num = 3\n",
    "if (num>0):\n",
    "    print(num, \"là số dương.\")\n",
    "    print('-------------------')\n",
    "\n",
    "print(\"Thông điệp này luôn được in.\")\n"
   ]
  },
  {
   "cell_type": "code",
   "execution_count": null,
   "metadata": {},
   "outputs": [],
   "source": []
  },
  {
   "cell_type": "code",
   "execution_count": null,
   "metadata": {},
   "outputs": [],
   "source": [
    "#Short Hand If\n",
    "if num > 0: print(num, \"là số dương.\")"
   ]
  },
  {
   "cell_type": "code",
   "execution_count": null,
   "metadata": {},
   "outputs": [],
   "source": []
  },
  {
   "cell_type": "code",
   "execution_count": null,
   "metadata": {},
   "outputs": [],
   "source": []
  },
  {
   "cell_type": "code",
   "execution_count": null,
   "metadata": {},
   "outputs": [],
   "source": [
    "#===========================DẠNG 2:==========================\n",
    "num = -3\n",
    "if (num>=0):\n",
    "    #Khối 1\n",
    "    print ('Số dương')\n",
    "    \n",
    "else:\n",
    "    #Khối 2\n",
    "    print ('Số âm')\n",
    "    \n",
    "    \n",
    "print(\"Thông điệp này luôn được in.\")    "
   ]
  },
  {
   "cell_type": "code",
   "execution_count": null,
   "metadata": {},
   "outputs": [],
   "source": []
  },
  {
   "cell_type": "code",
   "execution_count": null,
   "metadata": {},
   "outputs": [],
   "source": []
  },
  {
   "cell_type": "code",
   "execution_count": null,
   "metadata": {},
   "outputs": [],
   "source": [
    "#Short Hand If ... Else\n",
    "N = int(input('Nhập vào một số nguyên:'))\n",
    "print ('Số dương') if (N >= 0) else print ('Số âm')\n"
   ]
  },
  {
   "cell_type": "code",
   "execution_count": null,
   "metadata": {},
   "outputs": [],
   "source": []
  },
  {
   "cell_type": "code",
   "execution_count": null,
   "metadata": {},
   "outputs": [],
   "source": [
    "#Example:\n",
    "N = int(input('Nhập vào một số nguyên:'))\n",
    "if (N%2==0):\n",
    "     print (N, ' là số chẵn')\n",
    "else:\n",
    "     print (N, ' là số lẻ')\n",
    "    \n",
    "#print(N, ' là số lẻ') if (N%2 == 0) else print(N, ' là số lẻ')"
   ]
  },
  {
   "cell_type": "code",
   "execution_count": null,
   "metadata": {},
   "outputs": [],
   "source": []
  },
  {
   "cell_type": "code",
   "execution_count": null,
   "metadata": {},
   "outputs": [],
   "source": []
  },
  {
   "cell_type": "code",
   "execution_count": null,
   "metadata": {},
   "outputs": [],
   "source": [
    "#===============================DẠNG 3:==========================\n",
    "gt = input('Nhập giới tính (0:Nam - 1:Nữ - 2:XYZ):')\n",
    "if (gt=='0'):\n",
    "    #khối lệnh 1\n",
    "    print('Chào anh đẹp trai!')\n",
    "elif (gt=='1'):\n",
    "    #khối lệnh 2\n",
    "    print('Chào chị xinh gái!')\n",
    "elif (gt=='2'):\n",
    "    #khối lệnh 3\n",
    "    print('chào anh/chị!')\n",
    "else:\n",
    "    #khối lệnh 3\n",
    "    print('Giới tính nhập vào ko đúng!')\n",
    "    \n",
    "      "
   ]
  },
  {
   "cell_type": "code",
   "execution_count": null,
   "metadata": {},
   "outputs": [],
   "source": []
  },
  {
   "cell_type": "code",
   "execution_count": null,
   "metadata": {},
   "outputs": [],
   "source": []
  },
  {
   "cell_type": "code",
   "execution_count": null,
   "metadata": {},
   "outputs": [],
   "source": [
    "#=====================DẠNG 4 (if lồng nhau – Nested if):==========\n",
    "num = float(input('Nhập một số: '))\n",
    "if (num>=0):\n",
    "    if (num==0):\n",
    "        print('Số không')\n",
    "    else:\n",
    "        print('Số dương')\n",
    "else:\n",
    "    print('Số âm')"
   ]
  },
  {
   "cell_type": "code",
   "execution_count": null,
   "metadata": {},
   "outputs": [],
   "source": []
  },
  {
   "cell_type": "code",
   "execution_count": null,
   "metadata": {},
   "outputs": [],
   "source": []
  },
  {
   "cell_type": "code",
   "execution_count": null,
   "metadata": {},
   "outputs": [],
   "source": []
  },
  {
   "cell_type": "markdown",
   "metadata": {},
   "source": [
    "# THỰC HÀNH\n",
    "----"
   ]
  },
  {
   "cell_type": "markdown",
   "metadata": {},
   "source": [
    "## Bài 6: Xác định nguyên âm|phụ âm\n",
    "---\n",
    "Nhập vào một ký tự chữ cái bất kỳ(không phân biệt chữ hoa-chữ thường), cho biết nó là nguyên âm hay phụ âm trong tiếng anh. \n",
    "* 5 chữ cái nguyên âm: **U, E, O, A, I**\n",
    "* 21 Chữ cái phụ âm: **B, C, D, F, G, H, J K, L, M, N, P, Q, R, S, T, V, W, X, Y, Z**\n"
   ]
  },
  {
   "cell_type": "code",
   "execution_count": null,
   "metadata": {},
   "outputs": [],
   "source": [
    "#{Code bài làm của sinh viên tại đây}\n",
    "\n",
    "\n",
    "\n",
    "\n"
   ]
  },
  {
   "cell_type": "code",
   "execution_count": null,
   "metadata": {},
   "outputs": [],
   "source": []
  },
  {
   "cell_type": "code",
   "execution_count": null,
   "metadata": {},
   "outputs": [],
   "source": []
  },
  {
   "cell_type": "markdown",
   "metadata": {},
   "source": [
    "## Bài 7: Tính chỉ số BMI\n",
    "---\n",
    "Nhập vào chiều cao (m) và cân nặng (kg) rồi tính chỉ số BMI của người đó theo công thức:\n",
    "\n",
    "* BMI = Weight(Kg) / Height(m) ^2 \n",
    "\n",
    "Dựa vào chỉ số BMI tính được đưa ra nhận xét về cơ thể của người đó theo các mức:\n",
    "* Underweight: BMI<18.5\n",
    "* NormalWeight: 18.5 <= BMI <= 24.9\n",
    "* Overweight: 25 <= BMI <=29.9\n",
    "* Obese: BMI>=30\n"
   ]
  },
  {
   "cell_type": "code",
   "execution_count": null,
   "metadata": {},
   "outputs": [],
   "source": [
    "#{Code bài làm của sinh viên tại đây}\n",
    "\n",
    "\n",
    "\n",
    "\n"
   ]
  },
  {
   "cell_type": "code",
   "execution_count": null,
   "metadata": {},
   "outputs": [],
   "source": []
  },
  {
   "cell_type": "code",
   "execution_count": null,
   "metadata": {},
   "outputs": [],
   "source": []
  },
  {
   "cell_type": "code",
   "execution_count": null,
   "metadata": {},
   "outputs": [],
   "source": []
  },
  {
   "cell_type": "code",
   "execution_count": null,
   "metadata": {},
   "outputs": [],
   "source": []
  },
  {
   "cell_type": "code",
   "execution_count": null,
   "metadata": {},
   "outputs": [],
   "source": []
  },
  {
   "cell_type": "markdown",
   "metadata": {},
   "source": [
    "## Bài 8: Xác định mùa trong năm!\n",
    "---\n",
    "Nhập vào tháng sinh của bạn và cho biết bạn sinh vào mùa nào?\n",
    "\n",
    "**Yêu cầu:**\n",
    "* Nếu 1, 2, 3: Bạn sinh vào Mùa xuân\n",
    "* Nếu 4, 5, 6: Bạn sinh vào Mùa hạ\n",
    "* Nếu 7, 8, 9: Bạn sinh vào Mùa thu\n",
    "* Nếu 10, 11, 12: Bạn sinh vào Mùa đông\n",
    "* <1 hoặc >12: Tháng sinh nhập vào không đúng\n"
   ]
  },
  {
   "cell_type": "code",
   "execution_count": null,
   "metadata": {},
   "outputs": [],
   "source": [
    "#{Code bài làm của sinh viên tại đây}\n",
    "\n",
    "\n",
    "\n",
    "\n"
   ]
  },
  {
   "cell_type": "code",
   "execution_count": null,
   "metadata": {},
   "outputs": [],
   "source": []
  },
  {
   "cell_type": "code",
   "execution_count": null,
   "metadata": {},
   "outputs": [],
   "source": []
  },
  {
   "cell_type": "code",
   "execution_count": null,
   "metadata": {},
   "outputs": [],
   "source": []
  },
  {
   "cell_type": "code",
   "execution_count": null,
   "metadata": {},
   "outputs": [],
   "source": []
  },
  {
   "cell_type": "markdown",
   "metadata": {},
   "source": [
    "## 3) Cấu trúc vòng lặp\n",
    "---\n",
    "### 3.1 Vòng lặp While\n"
   ]
  },
  {
   "cell_type": "code",
   "execution_count": null,
   "metadata": {},
   "outputs": [],
   "source": [
    "n = int(input('Em sinh tháng mấy?'))\n",
    "i=1\n",
    "while(i<=n):\n",
    "    print(i, ') I Love You!')\n",
    "    i=i+1 #Trong vòng lặp while có câu lệnh làm thay đổi giá trị của biến kiểm tra\n",
    "\n",
    "#Câu lệnh lặp ngoài vòng lặp while\n",
    "print('------------HUMG---------')"
   ]
  },
  {
   "cell_type": "code",
   "execution_count": null,
   "metadata": {},
   "outputs": [],
   "source": []
  },
  {
   "cell_type": "code",
   "execution_count": null,
   "metadata": {},
   "outputs": [],
   "source": []
  },
  {
   "cell_type": "code",
   "execution_count": null,
   "metadata": {},
   "outputs": [],
   "source": []
  },
  {
   "cell_type": "markdown",
   "metadata": {},
   "source": [
    "#### LỆNH BREAK\n",
    "--\n",
    "Lệnh break kết thúc vòng lặp chứa nó và truyền điều khiển đến lệnh tiếp theo sau khối lệnh của vòng lặp đó."
   ]
  },
  {
   "cell_type": "code",
   "execution_count": null,
   "metadata": {},
   "outputs": [],
   "source": [
    "n = int(input('Em sinh tháng mấy?'))\n",
    "i=1\n",
    "while(i<=n):\n",
    "    print(i, ') I Love You!')\n",
    "    #Chỉ hiển thị tối đa 3 lần\n",
    "    if (i==3):\n",
    "        break #Thoát ra khỏi vòng lặp while   \n",
    "    i=i+1   \n",
    "#Câu lệnh lặp ngoài vòng lặp while\n",
    "print('-------------HUMG-----------')\n"
   ]
  },
  {
   "cell_type": "markdown",
   "metadata": {},
   "source": [
    "**Lệnh continue**\n",
    "\n",
    "Lệnh continue bỏ qua phần còn lại của khối lệnh bên trong vòng lặp, áp dụng cho vòng lặp tiếp theo. Nghĩa là vòng lặp không chấm dứt nó sẽ tiếp tục với số lần lặp kế tiếp\n"
   ]
  },
  {
   "cell_type": "code",
   "execution_count": null,
   "metadata": {},
   "outputs": [],
   "source": [
    "n = 20\n",
    "i = 1\n",
    "while (i<=n):\n",
    "    i = i+1\n",
    "    if (i%3!=0):\n",
    "        continue \n",
    "        #Bỏ qua các câu lệnh phía sau nếu ko chia hết cho 3\n",
    "    print(i)\n",
    "    #print(i,'chào ban!')\n",
    "    \n",
    "\n",
    "#Câu lệnh lặp ngoài vòng lặp while\n",
    "print('-------------AIACADEMY---------')"
   ]
  },
  {
   "cell_type": "markdown",
   "metadata": {},
   "source": [
    "**while True**\n",
    "\n",
    "Với cấu trúc này các câu lệnh sẽ thực hiện lặp đi lặp lại, cho đến khi biểu thức <điều kiện dừng>  thỏa mãn. Lúc đó câu lệnh if sẽ giúp cho lệnh break được thực thi và dừng vòng lặp.\n"
   ]
  },
  {
   "cell_type": "code",
   "execution_count": null,
   "metadata": {},
   "outputs": [],
   "source": [
    "#Chỉ cho phép nhập tháng sinh 1 - 12\n",
    "while True:\n",
    "    n = int(input('Em sinh tháng mấy: '))\n",
    "    if (1<=n<=12):\n",
    "        break #thoát khỏi vòng lặp nếu tháng sinh nhập vào hợp lệ\n",
    "    \n",
    "    print('Tháng sinh nhập vào không đúng, vui lòng nhập lại')\n",
    "    \n",
    "#Câu lệnh ngoài vòng lặp while\n",
    "print('Chào em cô gái tháng ', n)"
   ]
  },
  {
   "cell_type": "code",
   "execution_count": null,
   "metadata": {},
   "outputs": [],
   "source": []
  },
  {
   "cell_type": "code",
   "execution_count": null,
   "metadata": {},
   "outputs": [],
   "source": []
  },
  {
   "cell_type": "code",
   "execution_count": null,
   "metadata": {},
   "outputs": [],
   "source": []
  },
  {
   "cell_type": "code",
   "execution_count": null,
   "metadata": {},
   "outputs": [],
   "source": [
    "#while .... else\n",
    "count = 10\n",
    "while (count <= 3):\n",
    "    print(\"Inside loop\")\n",
    "    count = count + 1\n",
    "else:\n",
    "    print(\"---Inside else!----\")\n",
    "    \n",
    "#-----------------------------\n",
    "print(\"---Bên ngoài vòng lặp-----\")"
   ]
  },
  {
   "cell_type": "code",
   "execution_count": null,
   "metadata": {},
   "outputs": [],
   "source": []
  },
  {
   "cell_type": "code",
   "execution_count": null,
   "metadata": {},
   "outputs": [],
   "source": []
  },
  {
   "cell_type": "code",
   "execution_count": null,
   "metadata": {},
   "outputs": [],
   "source": [
    "#Kiểm tra đk--> đúng ---> Thực hiện khối lệnh"
   ]
  },
  {
   "cell_type": "markdown",
   "metadata": {},
   "source": [
    "### 3.2) Vòng lặp for\n",
    "---"
   ]
  },
  {
   "cell_type": "code",
   "execution_count": null,
   "metadata": {},
   "outputs": [],
   "source": [
    "# Vòng lặp for với chuỗi ký tự: Biến chạy sẽ lần lượt nhận các giá trị là các ký tự trong chuỗi ký tự.\n",
    "#st = 'PYTHON FOR ANALYTICS'\n",
    "st = [9, 8, 7, 4, 7, 5]\n",
    "for i in st:\n",
    "    print('ký tự: ', i)"
   ]
  },
  {
   "cell_type": "code",
   "execution_count": null,
   "metadata": {},
   "outputs": [],
   "source": []
  },
  {
   "cell_type": "code",
   "execution_count": null,
   "metadata": {},
   "outputs": [],
   "source": []
  },
  {
   "cell_type": "code",
   "execution_count": null,
   "metadata": {},
   "outputs": [],
   "source": []
  },
  {
   "cell_type": "code",
   "execution_count": null,
   "metadata": {},
   "outputs": [],
   "source": [
    "#Ví dụ: Đếm số ký tự N trong chuỗi\n",
    "st = 'PYTHON FORNNNN ANALYTICS'\n",
    "dem=0\n",
    "for i in st:\n",
    "    if i == 'N': dem=dem+1\n",
    "\n",
    "print('Số ký tự N có trong chuỗi là: ',dem)\n",
    "\n",
    "\n",
    "\n",
    "\n"
   ]
  },
  {
   "cell_type": "code",
   "execution_count": null,
   "metadata": {},
   "outputs": [],
   "source": [
    "#Vòng lặp for với danh sách\n",
    "hoc_sinh = ['Lê Thùy Dung', 'Trần Đức Hùng', \n",
    "            'Nguyễn Lan Anh','Mai Phương Thúy',\n",
    "           'Trần Thanh Thủy','Kiều Thành Công']\n",
    "\n",
    "print('Danh sách học sinh bao gồm:')\n",
    "tt = 1\n",
    "for i in hoc_sinh:\n",
    "    print( tt, ') ', i)\n",
    "    tt = tt+1"
   ]
  },
  {
   "cell_type": "markdown",
   "metadata": {},
   "source": [
    "**Vòng lặp for với lệnh range():**\n",
    "Lệnh range() trong Python kết hợp với vòng lặp for sẽ trở nên rất hữu hiệu trong việc kiểm soát giá trị bắt đầu, kết thúc và bước nhảy của biến chạy.\n",
    "\n",
    "**Cú pháp:**\n",
    "for <biếnchạy> in range(<bắtđầu>,<kếtthúc>,<bướcnhảy>):\n",
    "\tnhóm lệnh thực hiện\n",
    "\n",
    "* <bắt đầu> là giá trị khởi gán ban đầu cho biến chạy (mặc định = 0)\n",
    "\n",
    "* <kết thúc> là giá trị kết thúc cho biến chạy, nhưng không bao gồm chính nó (< kết thúc)\n",
    "\n",
    "* <bước nhảy> là giá trị mà biến nhảy tăng thêm sau mỗi lần lặp (mặc định = 1)"
   ]
  },
  {
   "cell_type": "code",
   "execution_count": null,
   "metadata": {},
   "outputs": [],
   "source": [
    "#Vòng lặp for với range()\n",
    "\n",
    "for i in range(8):\n",
    "    #giá trị khởi đầu mặc định = 0\n",
    "    #Bước nhảy mặc định = 1\n",
    "    print('i = ',i)"
   ]
  },
  {
   "cell_type": "code",
   "execution_count": null,
   "metadata": {},
   "outputs": [],
   "source": []
  },
  {
   "cell_type": "code",
   "execution_count": null,
   "metadata": {},
   "outputs": [],
   "source": []
  },
  {
   "cell_type": "code",
   "execution_count": null,
   "metadata": {},
   "outputs": [],
   "source": []
  },
  {
   "cell_type": "code",
   "execution_count": null,
   "metadata": {},
   "outputs": [],
   "source": [
    "#Vòng lặp for với range(m,n)\n",
    "\n",
    "for i in range(5,15):\n",
    "    #giá trị khởi đầu m = 5\n",
    "    #giá trị kết thúc n = 15\n",
    "    #Bước nhảy mặc định = 1\n",
    "    print('i = ',i)"
   ]
  },
  {
   "cell_type": "code",
   "execution_count": null,
   "metadata": {},
   "outputs": [],
   "source": []
  },
  {
   "cell_type": "code",
   "execution_count": null,
   "metadata": {},
   "outputs": [],
   "source": [
    "#Vòng lặp for với range(m,n,d)\n",
    "\n",
    "for i in range(2,11,5):\n",
    "    #giá trị khởi đầu m = 2\n",
    "    #giá trị kết thúc n = 11\n",
    "    #Bước nhảy d = 5\n",
    "    print('i = ',i)\n"
   ]
  },
  {
   "cell_type": "markdown",
   "metadata": {},
   "source": [
    "**Vòng lặp for lồng nhau**\n",
    "\n",
    "Trong một số bài toán chúng ta cần kết hợp và sử dụng nhiều câu lệnh lặp đặt lồng nhau để giải quyết. \n"
   ]
  },
  {
   "cell_type": "code",
   "execution_count": null,
   "metadata": {},
   "outputs": [],
   "source": [
    "#Hiển thị bảng cửu chương từ 2 -> 9\n",
    "for e in range(2,11):\n",
    "    print('Bảng cửu chương ', e)\n",
    "    for k in range(1,11):\n",
    "        print (e , ' x ', k, ' = ', e*k)\n",
    "    print('----------------------------------')"
   ]
  },
  {
   "cell_type": "markdown",
   "metadata": {},
   "source": [
    "# THỰC HÀNH\n",
    "---"
   ]
  },
  {
   "cell_type": "markdown",
   "metadata": {},
   "source": [
    "## Bài 9: Hiển thị bảng cửu chương!\n",
    "---\n",
    "Nhập vào bảng cửu chương muốn in (1 – 10), hiển thị bảng cửu chương tương ứng với số vừa nhập. (Lưu ý: Thực hiện kiểm tra giá trị nhập, chỉ thỏa mãn khi giá trị nhập vào trong khoảng [1,10] \n",
    "\n",
    "*Xem minh họa bài tập trong file bài giảng!*"
   ]
  },
  {
   "cell_type": "code",
   "execution_count": null,
   "metadata": {},
   "outputs": [],
   "source": [
    "#{HỌC VIÊN VIẾT CODE Ở ĐÂY!}\n",
    "\n"
   ]
  },
  {
   "cell_type": "code",
   "execution_count": null,
   "metadata": {},
   "outputs": [],
   "source": []
  },
  {
   "cell_type": "markdown",
   "metadata": {},
   "source": [
    "## Bài 10: Tính điểm học tập của bạn!\n",
    "---\n",
    "Khởi tạo một danh sách bao gồm các phần tử là điểm của bạn (hệ 10). Hãy thực hiện:\n",
    "1. Tạo một danh sách là các điểm chữ tương ứng với điểm hệ 10 ở trên.\n",
    "2. Tính điểm trung bình Hệ 10 và Hệ 4\n",
    "\n",
    "*Tham khảo minh họa trong slide bài giảng bảng chuyển đổi từ điểm số (Hệ 10) sang điểm số (hệ 4) và điểm chữ*  \n"
   ]
  },
  {
   "cell_type": "code",
   "execution_count": null,
   "metadata": {},
   "outputs": [],
   "source": [
    "#{HỌC VIÊN VIẾT CODE Ở ĐÂY!}\n",
    " "
   ]
  },
  {
   "cell_type": "code",
   "execution_count": null,
   "metadata": {},
   "outputs": [],
   "source": []
  },
  {
   "cell_type": "code",
   "execution_count": null,
   "metadata": {},
   "outputs": [],
   "source": []
  },
  {
   "cell_type": "markdown",
   "metadata": {},
   "source": [
    "## Bài 11: Kiểm tra N có là số nguyên tố?\n",
    "---\n",
    "Nhập vào số tự nhiên N, cho biết N có phải là số nguyên tố hay không? (Số nguyên tố là số lớn hơn 1, chỉ chia hết cho 1 và chính nó)\n"
   ]
  },
  {
   "cell_type": "code",
   "execution_count": null,
   "metadata": {},
   "outputs": [],
   "source": [
    "#{HỌC VIÊN VIẾT CODE Ở ĐÂY!}\n"
   ]
  },
  {
   "cell_type": "code",
   "execution_count": null,
   "metadata": {},
   "outputs": [],
   "source": []
  },
  {
   "cell_type": "code",
   "execution_count": null,
   "metadata": {},
   "outputs": [],
   "source": []
  },
  {
   "cell_type": "markdown",
   "metadata": {},
   "source": [
    "## Bài 12: dãy số nguyên tố\n",
    "---\n",
    "Nhập vào một số N, hiển thị các số nguyên tố từ 2 tới N:\n"
   ]
  },
  {
   "cell_type": "code",
   "execution_count": null,
   "metadata": {},
   "outputs": [],
   "source": []
  },
  {
   "cell_type": "code",
   "execution_count": null,
   "metadata": {},
   "outputs": [],
   "source": []
  },
  {
   "cell_type": "code",
   "execution_count": null,
   "metadata": {},
   "outputs": [],
   "source": []
  },
  {
   "cell_type": "code",
   "execution_count": null,
   "metadata": {},
   "outputs": [],
   "source": []
  },
  {
   "cell_type": "code",
   "execution_count": null,
   "metadata": {},
   "outputs": [],
   "source": []
  },
  {
   "cell_type": "markdown",
   "metadata": {},
   "source": [
    "## Bài 13: Đổi số từ thập phân sang nhị phân\n",
    "---\n",
    "Nhập vào một số tự nhiên N (N>0), chuyển đổi số N sang hệ nhị phân.\n"
   ]
  },
  {
   "cell_type": "code",
   "execution_count": null,
   "metadata": {},
   "outputs": [],
   "source": [
    "#{HỌC VIÊN VIẾT CODE Ở ĐÂY!}\n",
    "\n",
    "\n",
    "\n"
   ]
  },
  {
   "cell_type": "code",
   "execution_count": null,
   "metadata": {},
   "outputs": [],
   "source": []
  },
  {
   "cell_type": "markdown",
   "metadata": {},
   "source": [
    "## Bài 14: Tìm số Max – Min - Mean\n",
    "---\n",
    "Khởi tạo một dãy số là chiều cao của sinh viên trong một lớp (có m sinh viên). Thực hiện:\n",
    "1. Hiển thị chiều cao của sinh viên cao nhất – thấp nhất trong lớp\n",
    "2. Tính chiều cao trung bình của sinh viên trong lớp.\n",
    "3. Số lượng sinh viên trong lớp có chiều cao lớn hơn hoặc bằng chiều cao trung bình của lớp\n"
   ]
  },
  {
   "cell_type": "code",
   "execution_count": null,
   "metadata": {},
   "outputs": [],
   "source": [
    "#{HỌC VIÊN VIẾT CODE Ở ĐÂY!}\n",
    "\n",
    "\n",
    "\n"
   ]
  },
  {
   "cell_type": "code",
   "execution_count": null,
   "metadata": {},
   "outputs": [],
   "source": []
  },
  {
   "cell_type": "code",
   "execution_count": null,
   "metadata": {},
   "outputs": [],
   "source": []
  },
  {
   "cell_type": "code",
   "execution_count": null,
   "metadata": {},
   "outputs": [],
   "source": []
  },
  {
   "cell_type": "code",
   "execution_count": null,
   "metadata": {},
   "outputs": [],
   "source": []
  },
  {
   "cell_type": "code",
   "execution_count": null,
   "metadata": {},
   "outputs": [],
   "source": []
  }
 ],
 "metadata": {
  "kernelspec": {
   "display_name": "Python 3",
   "language": "python",
   "name": "python3"
  },
  "language_info": {
   "codemirror_mode": {
    "name": "ipython",
    "version": 3
   },
   "file_extension": ".py",
   "mimetype": "text/x-python",
   "name": "python",
   "nbconvert_exporter": "python",
   "pygments_lexer": "ipython3",
   "version": "3.7.1"
  }
 },
 "nbformat": 4,
 "nbformat_minor": 2
}
