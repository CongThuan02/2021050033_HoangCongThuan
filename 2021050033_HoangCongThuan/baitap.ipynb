{
 "cells": [
  {
   "cell_type": "markdown",
   "metadata": {},
   "source": [
    "1. Họ tên Sinh viên: Hoàng Công Thuận\n",
    "2. Mã Sinh viên: 2021050033\n",
    "3. Email:hoangthuan.it02@gmail.com"
   ]
  },
  {
   "cell_type": "markdown",
   "metadata": {},
   "source": [
    "## Bài 1: Chia kẹo cho học sinh lớp 1\n",
    "----\n",
    "Cô có n cái kẹo, có m học sinh trong lớp. Hãy giúp cô chia đều số kẹo cho tất cả học sinh.\n",
    "\n",
    "**Yêu cầu:**\n",
    "* Nhập vào số kẹo của cô – N\n",
    "* Nhập vào số học sinh trong lớp – M\n",
    "\n",
    "\n",
    "Cho biết:\n",
    "1. Mỗi học sinh được nhận bao nhiêu cái kẹo?\n",
    "2. Cô còn lại bao nhiêu cái kẹo?"
   ]
  },
  {
   "cell_type": "code",
   "execution_count": 3,
   "metadata": {},
   "outputs": [
    {
     "name": "stdout",
     "output_type": "stream",
     "text": [
      "số kẹo mỗi học sinh nhận được là:  1\n",
      "số kẹo cô còn lại là:  1\n"
     ]
    }
   ],
   "source": [
    "n= int(input(\"nhập vào số kẹo của cô: \"))\n",
    "hocSinh =int(input(\"Nhập vào số học sinh: \"))\n",
    "print(\"số kẹo mỗi học sinh nhận được là: \", n//hocSinh)\n",
    "print(\"số kẹo cô còn lại là: \", n%hocSinh)"
   ]
  },
  {
   "cell_type": "markdown",
   "metadata": {},
   "source": [
    "# Bài 2: Tính tuổi\n",
    "---\n",
    "Nhập vào tên và năm sinh của một người, tính tuổi của người đó và hiển thị ra màn hình thông báo \n",
    "\n",
    "Yêu cầu:\n",
    "\n",
    "* Nhập vào họ tên: mai phương thúy\n",
    "* Nhập vào năm sinh: 2000\n",
    "\n",
    "Hiển thị thông báo kết quả:\n",
    "\t **Bạn “MAI PHƯƠNG THÚY” năm nay 19 tuổi!**"
   ]
  },
  {
   "cell_type": "code",
   "execution_count": 9,
   "metadata": {},
   "outputs": [
    {
     "name": "stdout",
     "output_type": "stream",
     "text": [
      "**bạn'' thuan ''năm nay '' 2002 ''' Tuổi\n"
     ]
    }
   ],
   "source": [
    "name =  input(\"nhập vào tên: \")\n",
    "namSinh = int(input(\"nhập vào năm sinh: \"))\n",
    "print(\"**bạn \",name, \"năm nay \", namSinh,\" Tuổi\")"
   ]
  },
  {
   "cell_type": "markdown",
   "metadata": {},
   "source": [
    "# Bài 3: Cho biết số thỏ trong rừng!\n",
    "---\n",
    "Ban đầu trong rừng có một cặp thỏ, biết rằng cứ sau 1 tháng thì số lượng thỏ trong rừng tăng lên gấp đôi. Hỏi sau x tháng thì trong rừng có bao nhiêu con thỏ (Giả thiết các con thỏ không chết)\n",
    "\n",
    "Yêu cầu: \n",
    "* Nhập vào số tháng x: 3\n",
    "* Hiển thị thông báo kết quả:\n",
    "\t **Trong rừng có: 16 con thỏ**"
   ]
  },
  {
   "cell_type": "code",
   "execution_count": 8,
   "metadata": {},
   "outputs": [
    {
     "name": "stdout",
     "output_type": "stream",
     "text": [
      "số thỏ sau  3  là:  16\n"
     ]
    }
   ],
   "source": [
    "thang = int(input(\"nhập vào số tháng: \"))\n",
    "tho=2\n",
    "for i in range(0,thang):\n",
    "    tho *=2\n",
    "print(\"số thỏ sau \",thang, \" là: \", tho)"
   ]
  },
  {
   "cell_type": "markdown",
   "metadata": {},
   "source": [
    "# Bài 4: Chuỗi văn bản\n",
    "---\n",
    "\n",
    "“Nước Việt Nam là một, dân tộc Việt Nam là một. Sông có thể cạn núi có thể mòn, song chân lý ấy không bao giờ thay đổi. (HỒ CHÍ MINH, 1890 – 1969)”\n",
    "\n",
    "Yêu cầu: \n",
    "1. Cho biết số ký tự có trong đoạn văn trên.\n",
    "2. Cho biết trong đoạn có chứa từ nào sau đây không (Không phân biệt chữ hoa, chữ thường)?\n",
    "    * “hồ chí minh”\n",
    "    * “non sông”\n",
    "3. Tách đoạn văn thành các câu bởi dấu .\n",
    "4. Cho biết trong đoạn văn trên có ký tự nào khác ký tự chữ và số hay không?\n",
    "5. Thay thế các các từ ‘Việt Nam’ bằng ‘VIỆT NAM’ trong đoạn văn trên."
   ]
  },
  {
   "cell_type": "code",
   "execution_count": 24,
   "metadata": {},
   "outputs": [
    {
     "name": "stdout",
     "output_type": "stream",
     "text": [
      "Số kí tự có trong chuỗi là:  145\n",
      "có HỒ CHÍ MINH  trong chuỗi\n",
      "['Nước Việt Nam là một, dân tộc Việt Nam là một', ' Sông có thể cạn núi có thể mòn, song chân lý ấy không bao giờ thay đổi', ' (HỒ CHÍ MINH, 1890 – 1969)']\n",
      "co kí tự đặc biệt trong chuỗi.\n",
      "Nước VIỆT NAM là một, dân tộc VIỆT NAM là một. Sông có thể cạn núi có thể mòn, song chân lý ấy không bao giờ thay đổi. (HỒ CHÍ MINH, 1890 – 1969)\n"
     ]
    }
   ],
   "source": [
    "chuoi= \"Nước Việt Nam là một, dân tộc Việt Nam là một. Sông có thể cạn núi có thể mòn, song chân lý ấy không bao giờ thay đổi. (HỒ CHÍ MINH, 1890 – 1969)\"\n",
    "#1\n",
    "print(\"Số kí tự có trong chuỗi là: \",len(chuoi))\n",
    "#2\n",
    "x= \"hồ chí minh\" in chuoi\n",
    "x2 =\"hồ chí minh\".upper() in chuoi\n",
    "y = \"non sông\" in chuoi\n",
    "y2 =\"non sông\".upper() in chuoi\n",
    "if x==True:\n",
    "    print(\"co hồ chí minh trong chuỗi\")\n",
    "if x2==True:\n",
    "    print(\"có HỒ CHÍ MINH  trong chuỗi\")\n",
    "\n",
    "if y==True:\n",
    "    print(\"có non sông trong chuỗi\")\n",
    "if y==True:\n",
    "    print(\"có NON SÔNG trong chuỗi\")\n",
    "#3\n",
    "\n",
    "print(chuoi.split(\".\"))\n",
    "#4\n",
    "if not(chuoi.isnumeric()):\n",
    "    print(\"co kí tự đặc biệt trong chuỗi.\")\n",
    "else:\n",
    "    print(\"không có kí tự đặc biệt trong chuỗi\")\n",
    "#5\n",
    "print(chuoi.replace(\"Việt Nam\",\"VIỆT NAM\"))\n",
    "\n",
    "\n",
    "\n"
   ]
  },
  {
   "cell_type": "markdown",
   "metadata": {},
   "source": [
    "## Bài 5: Thống kê điểm Học viên\n",
    "---\n",
    "\n",
    "Khởi tạo một danh sách gồm các điểm thi môn “Python for Analysis” của lớp AIV_EVNICT (Điểm chữ: A, B, C, D, F)\n",
    "\n",
    "**Yêu cầu:** \n",
    "1. Cho biết số sinh viên trong lớp\n",
    "2. Có bao nhiêu sinh viên phải học lại môn này (điểm F).\n",
    "3. Có bao nhiêu sinh viên có điểm từ B trở lên.\n",
    "4. Sinh viên đầu tiên và cuối cùng trong lớp đã nghỉ học, tạo một bảng điểm mới và loại bỏ điểm của các sinh viên này ra "
   ]
  },
  {
   "cell_type": "code",
   "execution_count": null,
   "metadata": {},
   "outputs": [],
   "source": [
    "A= ['C','B','D','A','F','A','B','F','B','B','C','A','D','F','B']\n",
    "#1\n",
    "print(\"Số học sinh trong lớp là \",len(A))\n",
    "#2\n",
    "print(\"Số học sinh còn lại trong lớp là\", A.count(\"F\"))\n",
    "#3\n",
    "a =A.count(\"A\")\n",
    "b= A.count(\"B\")\n",
    "print(\"Số học sinh có điểm lớn hơn điểm B là: \", a+b)\n",
    "A2 = A[1:14]\n",
    "print(\"Bảng điểm mới là: \", A2)"
   ]
  },
  {
   "cell_type": "markdown",
   "metadata": {},
   "source": [
    "## Bài 6: Xác định nguyên âm|phụ âm\n",
    "---\n",
    "Nhập vào một ký tự chữ cái bất kỳ(không phân biệt chữ hoa-chữ thường), cho biết nó là nguyên âm hay phụ âm trong tiếng anh. \n",
    "* 5 chữ cái nguyên âm: **U, E, O, A, I**\n",
    "* 21 Chữ cái phụ âm: **B, C, D, F, G, H, J K, L, M, N, P, Q, R, S, T, V, W, X, Y, Z**\n"
   ]
  },
  {
   "cell_type": "code",
   "execution_count": 25,
   "metadata": {},
   "outputs": [
    {
     "name": "stdout",
     "output_type": "stream",
     "text": [
      "Đây là chữ nguyên âm\n"
     ]
    }
   ],
   "source": [
    "letter = input(\"Nhập chữ cái trong bảng tiếng Anh: \")\n",
    "while len(letter) > 1 or len(letter) == 0:\n",
    "    letter = input(\"Nhập chữ cái trong bảng tiếng Anh: \")\n",
    "if (letter >= \"a\" and letter <= \"z\") or (letter >= \"A\" and letter <= \"Z\"):\n",
    "    if letter in ('a', 'e', 'i', 'o', 'u', 'A', 'E', 'I', 'O', 'U'):\n",
    "        print('Đây là chữ nguyên âm')\n",
    "    else:\n",
    "        print(' Đây ko phải nguyên âm')\n",
    "else: \n",
    "    print ('Vui lòng nhập lại')\n",
    "    letter = input(\"Nhập chữ cái trong bảng tiếng Anh: \")"
   ]
  },
  {
   "cell_type": "markdown",
   "metadata": {},
   "source": [
    "## Bài 7: Tính chỉ số BMI\n",
    "---\n",
    "Nhập vào chiều cao (m) và cân nặng (kg) rồi tính chỉ số BMI của người đó theo công thức:\n",
    "\n",
    "* BMI = Weight(Kg) / Height(m) ^2 \n",
    "\n",
    "Dựa vào chỉ số BMI tính được đưa ra nhận xét về cơ thể của người đó theo các mức:\n",
    "* Underweight: BMI<18.5\n",
    "* NormalWeight: 18.5 <= BMI <= 24.9\n",
    "* Overweight: 25 <= BMI <=29.9\n",
    "* Obese: BMI>=30\n"
   ]
  },
  {
   "cell_type": "code",
   "execution_count": null,
   "metadata": {},
   "outputs": [],
   "source": [
    "cao= float(input ('Nhập chiều cao:'))\n",
    "can = float(input('Nhập cân nặng'))\n",
    "cao2 = cao*cao\n",
    "bmi =float( can/cao2)\n",
    "print(bmi)\n",
    "if (bmi<18.5):\n",
    "    print('Thiếu cân')\n",
    "elif(bmi>=18.5 or bmi<25 ):\n",
    "    print('Cân nặng bình thường')\n",
    "elif(bmi>=25 or bmi<30 ):\n",
    "    print('Thừa cân')\n",
    "elif(bmi<=30):\n",
    "    print(' Béo phì')"
   ]
  },
  {
   "cell_type": "markdown",
   "metadata": {},
   "source": [
    "## Bài 8: Xác định mùa trong năm!\n",
    "---\n",
    "Nhập vào tháng sinh của bạn và cho biết bạn sinh vào mùa nào?\n",
    "\n",
    "**Yêu cầu:**\n",
    "* Nếu 1, 2, 3: Bạn sinh vào Mùa xuân\n",
    "* Nếu 4, 5, 6: Bạn sinh vào Mùa hạ\n",
    "* Nếu 7, 8, 9: Bạn sinh vào Mùa thu\n",
    "* Nếu 10, 11, 12: Bạn sinh vào Mùa đông\n",
    "* <1 hoặc >12: Tháng sinh nhập vào không đúng\n"
   ]
  },
  {
   "cell_type": "code",
   "execution_count": 26,
   "metadata": {},
   "outputs": [
    {
     "name": "stdout",
     "output_type": "stream",
     "text": [
      "mua thu\n"
     ]
    }
   ],
   "source": [
    "thang = int(input('nhap thang sinh'))\n",
    "if(thang>=1 and thang<=12):\n",
    "    if( thang >= 1 and thang<4 ):\n",
    "     print('mua xuan')\n",
    "    if( thang >= 4 and thang<6 ):\n",
    "        print('mua ha')\n",
    "    if( thang >= 6 and thang<10 ):\n",
    "        print('mua thu')\n",
    "    if( thang >= 10 and thang<=12 ):\n",
    "        print('mua dong')\n",
    "else:\n",
    "    print(\"tháng không hợp lệ\")"
   ]
  },
  {
   "cell_type": "markdown",
   "metadata": {},
   "source": [
    "## Bài 9: Hiển thị bảng cửu chương!\n",
    "---\n",
    "Nhập vào bảng cửu chương muốn in (1 – 10), hiển thị bảng cửu chương tương ứng với số vừa nhập. (Lưu ý: Thực hiện kiểm tra giá trị nhập, chỉ thỏa mãn khi giá trị nhập vào trong khoảng [1,10] \n",
    "\n",
    "*Xem minh họa bài tập trong file bài giảng!*"
   ]
  },
  {
   "cell_type": "code",
   "execution_count": 27,
   "metadata": {},
   "outputs": [
    {
     "name": "stdout",
     "output_type": "stream",
     "text": [
      "2 x 1 = 2\n",
      "2 x 2 = 4\n",
      "2 x 3 = 6\n",
      "2 x 4 = 8\n",
      "2 x 5 = 10\n",
      "2 x 6 = 12\n",
      "2 x 7 = 14\n",
      "2 x 8 = 16\n",
      "2 x 9 = 18\n"
     ]
    }
   ],
   "source": [
    "n = int(input(\"Nhập vào bảng cửu chương muốn in [1- 10\"))\n",
    "  \n",
    "   #Su dung cau truc re nhanh xu ly truong hop n nam ngoai (1:9)\n",
    "if n<0 or n>10:\n",
    "       print(\"Chi tinh duoc bang cuu chuong 1 den 10!\")\n",
    "else:   \n",
    "       #Su dung vong lap for voi 1 <= i <= 10\n",
    "    for i in range(1, 10):\n",
    "           #Xuat theo dinh dang de bai yeu cau\n",
    "        \n",
    "        print(\"{} x {} = {}\".format(n, i, n*i))"
   ]
  },
  {
   "cell_type": "markdown",
   "metadata": {},
   "source": [
    "## Bài 10: Tính điểm học tập của bạn!\n",
    "---\n",
    "Khởi tạo một danh sách bao gồm các phần tử là điểm của bạn (hệ 10). Hãy thực hiện:\n",
    "1. Tạo một danh sách là các điểm chữ tương ứng với điểm hệ 10 ở trên.\n",
    "2. Tính điểm trung bình Hệ 10 và Hệ 4\n",
    "\n",
    "*Tham khảo minh họa trong slide bài giảng bảng chuyển đổi từ điểm số (Hệ 10) sang điểm số (hệ 4) và điểm chữ*  \n"
   ]
  },
  {
   "cell_type": "code",
   "execution_count": 28,
   "metadata": {},
   "outputs": [
    {
     "name": "stdout",
     "output_type": "stream",
     "text": [
      "63.4\n",
      "DTB he 10: 7.044444444444444\n",
      "DTB he 4 2.8177777777777777\n"
     ]
    }
   ],
   "source": [
    "diem10= [8.4,6.5,7.3,2.6,9.0,5.8,6.0,9.7,8.1]\n",
    "hechu=['B+','C+','B','F','A+','C','C','A+', 'B+']\n",
    "x=0\n",
    "for i in diem10:\n",
    "    x = x+i \n",
    "a= x/len(diem10)   \n",
    "b= a/2.5\n",
    "print(x)\n",
    "print ( \"DTB he 10:\",a)\n",
    "print('DTB he 4', b)"
   ]
  },
  {
   "cell_type": "markdown",
   "metadata": {},
   "source": [
    "## Bài 11: Kiểm tra N có là số nguyên tố?\n",
    "---\n",
    "Nhập vào số tự nhiên N, cho biết N có phải là số nguyên tố hay không? (Số nguyên tố là số lớn hơn 1, chỉ chia hết cho 1 và chính nó)\n"
   ]
  },
  {
   "cell_type": "code",
   "execution_count": 30,
   "metadata": {},
   "outputs": [],
   "source": [
    "def check_number(n):\n",
    "    flag = 0\n",
    "    flag = 1\n",
    "    if n < 2:\n",
    "        flag = 0\n",
    "        return flag\n",
    "    for p in range(2, n):\n",
    "        if n % p == 0:\n",
    "            flag = 0\n",
    "            break\n",
    "    return flag"
   ]
  },
  {
   "cell_type": "code",
   "execution_count": 32,
   "metadata": {},
   "outputs": [
    {
     "name": "stdout",
     "output_type": "stream",
     "text": [
      "3 La so nguyen to\n"
     ]
    }
   ],
   "source": [
    "n = int(input('Nhap vao so nguyen duong N: '))\n",
    "while (n) < 1:\n",
    "    print(n, \"Khong phai la so nguyen duong nhap lai\")\n",
    "    n = int(input('Nhap vao so nguyen duong N: '))       \n",
    "\n",
    "check = check_number(n)\n",
    "if (check == 1):\n",
    "    print(n,'La so nguyen to')\n",
    "else:\n",
    "    print(n,'Ko phai so nguyen to')"
   ]
  },
  {
   "cell_type": "markdown",
   "metadata": {},
   "source": [
    "## Bài 12: dãy số nguyên tố\n",
    "---\n",
    "Nhập vào một số N, hiển thị các số nguyên tố từ 2 tới N:\n"
   ]
  },
  {
   "cell_type": "code",
   "execution_count": 37,
   "metadata": {},
   "outputs": [],
   "source": [
    "def check_number(n):\n",
    "    flag = 0\n",
    "    flag = 1\n",
    "    if n < 2:\n",
    "        flag = 0\n",
    "        return flag\n",
    "\n",
    "    for p in range(2, n):\n",
    "        if n % p == 0:\n",
    "            flag = 0\n",
    "            break\n",
    "    return flag"
   ]
  },
  {
   "cell_type": "code",
   "execution_count": 38,
   "metadata": {},
   "outputs": [],
   "source": [
    "def liet_ke_so_nguyen_to( a, b):\n",
    "   for n in range(a, b + 1):\n",
    "       if check_number(n):\n",
    "           print(n, end=' ')"
   ]
  },
  {
   "cell_type": "code",
   "execution_count": 39,
   "metadata": {},
   "outputs": [
    {
     "name": "stdout",
     "output_type": "stream",
     "text": [
      "3 La so nguyen to\n",
      "Day so nguyen to chay den 3\n",
      "2 3 "
     ]
    }
   ],
   "source": [
    "n = int(input('Nhap vao so nguyen duong N: '))\n",
    "b = n\n",
    "a = 0\n",
    "\n",
    "while (n) < 1:\n",
    "    print(n, 'Khong phai la so nguyen duong nhap lai')\n",
    "    n = int(input('Nhap vao so nguyen duong N: '))       \n",
    "\n",
    "check = check_number(n)\n",
    "if (check == 1):\n",
    "    \n",
    "    print(n,'La so nguyen to')\n",
    "    print( \"Day so nguyen to chay den\",n)\n",
    "    liet_ke_so_nguyen_to(a,b)\n",
    "\n",
    "else:\n",
    "    print(n,'Ko phai so nguyen to')"
   ]
  },
  {
   "cell_type": "markdown",
   "metadata": {},
   "source": [
    "## Bài 13: Đổi số từ thập phân sang nhị phân\n",
    "---\n",
    "Nhập vào một số tự nhiên N (N>0), chuyển đổi số N sang hệ nhị phân.\n"
   ]
  },
  {
   "cell_type": "code",
   "execution_count": 40,
   "metadata": {},
   "outputs": [],
   "source": [
    "def nhiphan(n):\n",
    "    p = \"\"\n",
    "    x = []\n",
    "    while( n > 0 ):\n",
    "        p = str(n % 2) + p\n",
    "    #  print(\"n%2 = \", n%2)\n",
    "        x.append(n%2)\n",
    "        n = n//2\n",
    "    # print(x)2\n",
    "    xc = x[::-1]\n",
    "    # print(xc)\n",
    "    for i in xc:\n",
    "    \tprint (i, end='')"
   ]
  },
  {
   "cell_type": "code",
   "execution_count": 43,
   "metadata": {},
   "outputs": [
    {
     "name": "stdout",
     "output_type": "stream",
     "text": [
      " Nhi phan cua so 5 la:\n",
      "101"
     ]
    }
   ],
   "source": [
    "\n",
    "n  = int(input(\" Nhap so thap phan:\"))\n",
    "print(\" Nhi phan cua so\" , n ,\"la:\") \n",
    "nhiphan(n)"
   ]
  },
  {
   "cell_type": "markdown",
   "metadata": {},
   "source": [
    "## Bài 14: Tìm số Max – Min - Mean\n",
    "---\n",
    "Khởi tạo một dãy số là chiều cao của sinh viên trong một lớp (m). Thực hiện:\n",
    "1. Hiển thị chiều cao của sinh viên cao nhất – thấp nhất trong lớp\n",
    "2. Tính chiều cao trung bình của sinh viên trong lớp.\n",
    "3. Số lượng sinh viên trong lớp có chiều cao lớn hơn hoặc bằng chiều cao trung bình của lớp\n"
   ]
  },
  {
   "cell_type": "code",
   "execution_count": 48,
   "metadata": {},
   "outputs": [
    {
     "name": "stdout",
     "output_type": "stream",
     "text": [
      "Chiều cao cao nhất: 1.8 m\n",
      " Chiều cao thấp nhất 1.45 m\n",
      " Trung bình chiều cao của học sinh là: 0.15 m\n"
     ]
    },
    {
     "ename": "TypeError",
     "evalue": "'>' not supported between instances of 'list' and 'float'",
     "output_type": "error",
     "traceback": [
      "\u001b[1;31m---------------------------------------------------------------------------\u001b[0m",
      "\u001b[1;31mTypeError\u001b[0m                                 Traceback (most recent call last)",
      "Cell \u001b[1;32mIn[48], line 10\u001b[0m\n\u001b[0;32m      8\u001b[0m     x \u001b[39m=\u001b[39m x \u001b[39m/\u001b[39m \u001b[39mlen\u001b[39m(hs)\n\u001b[0;32m      9\u001b[0m     \u001b[39mprint\u001b[39m(\u001b[39m\"\u001b[39m\u001b[39m Trung bình chiều cao của học sinh là:\u001b[39m\u001b[39m\"\u001b[39m,x,\u001b[39m\"\u001b[39m\u001b[39mm\u001b[39m\u001b[39m\"\u001b[39m)\n\u001b[1;32m---> 10\u001b[0m     \u001b[39mif\u001b[39;00m hs\u001b[39m>\u001b[39;49mx:\n\u001b[0;32m     11\u001b[0m         a\u001b[39m=\u001b[39m hs\u001b[39m.\u001b[39mcount()\n\u001b[0;32m     14\u001b[0m \u001b[39mprint\u001b[39m(\u001b[39m\"\u001b[39m\u001b[39m Số học sinh có chiều cao hơn TB la:\u001b[39m\u001b[39m\"\u001b[39m,)\n",
      "\u001b[1;31mTypeError\u001b[0m: '>' not supported between instances of 'list' and 'float'"
     ]
    }
   ],
   "source": [
    "hs= [ 1.65, 1.7,1.55,1.64,1.78,1.59,1.62,1.45,1.8,1.69,1.5]\n",
    "x=0 \n",
    "\n",
    "print(\"Chiều cao cao nhất:\",max(hs),\"m\")\n",
    "print(\" Chiều cao thấp nhất\",min(hs),\"m\")\n",
    "for i in hs:\n",
    "    x = x + i\n",
    "    x = x / len(hs)\n",
    "    print(\" Trung bình chiều cao của học sinh là:\",x,\"m\")\n",
    "    if hs>x:\n",
    "        a= hs.count()\n",
    " \n",
    "\n",
    "print(\" Số học sinh có chiều cao hơn TB la:\",)\n",
    "# max_min(m,n)"
   ]
  }
 ],
 "metadata": {
  "kernelspec": {
   "display_name": "Python 3.11.0 64-bit",
   "language": "python",
   "name": "python3"
  },
  "language_info": {
   "codemirror_mode": {
    "name": "ipython",
    "version": 3
   },
   "file_extension": ".py",
   "mimetype": "text/x-python",
   "name": "python",
   "nbconvert_exporter": "python",
   "pygments_lexer": "ipython3",
   "version": "3.11.0"
  },
  "orig_nbformat": 4,
  "vscode": {
   "interpreter": {
    "hash": "401b4c341b1a4ef30a4e447c642f116c86fed073fe1dddad932b3c314aff1bce"
   }
  }
 },
 "nbformat": 4,
 "nbformat_minor": 2
}
