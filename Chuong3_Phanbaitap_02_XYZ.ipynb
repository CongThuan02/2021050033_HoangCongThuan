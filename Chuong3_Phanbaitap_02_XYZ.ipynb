{
 "cells": [
  {
   "cell_type": "markdown",
   "metadata": {},
   "source": [
    "## CHƯƠNG 3: LẬP TRÌNH PYTHON CƠ BẢN - PHẦN BÀI TẬP 02\n",
    "---\n",
    "\n",
    "1. Họ tên Sinh viên: \n",
    "2. Mã Sinh viên: \n",
    "3. Email:"
   ]
  },
  {
   "cell_type": "markdown",
   "metadata": {},
   "source": [
    "## Bài 6: Xác định nguyên âm|phụ âm\n",
    "---\n",
    "Nhập vào một ký tự chữ cái bất kỳ(không phân biệt chữ hoa-chữ thường), cho biết nó là nguyên âm hay phụ âm trong tiếng anh. \n",
    "* 5 chữ cái nguyên âm: **U, E, O, A, I**\n",
    "* 21 Chữ cái phụ âm: **B, C, D, F, G, H, J K, L, M, N, P, Q, R, S, T, V, W, X, Y, Z**\n"
   ]
  },
  {
   "cell_type": "code",
   "execution_count": null,
   "metadata": {},
   "outputs": [],
   "source": [
    "#{HỌC VIÊN VIẾT CODE Ở ĐÂY}\n",
    "\n",
    "\n",
    "\n",
    "\n"
   ]
  },
  {
   "cell_type": "code",
   "execution_count": null,
   "metadata": {},
   "outputs": [],
   "source": []
  },
  {
   "cell_type": "code",
   "execution_count": null,
   "metadata": {},
   "outputs": [],
   "source": []
  },
  {
   "cell_type": "markdown",
   "metadata": {},
   "source": [
    "## Bài 7: Tính chỉ số BMI\n",
    "---\n",
    "Nhập vào chiều cao (m) và cân nặng (kg) rồi tính chỉ số BMI của người đó theo công thức:\n",
    "\n",
    "* BMI = Weight(Kg) / Height(m) ^2 \n",
    "\n",
    "Dựa vào chỉ số BMI tính được đưa ra nhận xét về cơ thể của người đó theo các mức:\n",
    "* Underweight: BMI<18.5\n",
    "* NormalWeight: 18.5 <= BMI <= 24.9\n",
    "* Overweight: 25 <= BMI <=29.9\n",
    "* Obese: BMI>=30\n"
   ]
  },
  {
   "cell_type": "code",
   "execution_count": null,
   "metadata": {},
   "outputs": [],
   "source": [
    "#{HỌC VIÊN VIẾT CODE Ở ĐÂY}\n",
    "\n",
    "\n",
    "\n",
    "\n",
    "\n"
   ]
  },
  {
   "cell_type": "code",
   "execution_count": null,
   "metadata": {},
   "outputs": [],
   "source": []
  },
  {
   "cell_type": "markdown",
   "metadata": {},
   "source": [
    "## Bài 8: Xác định mùa trong năm!\n",
    "---\n",
    "Nhập vào tháng sinh của bạn và cho biết bạn sinh vào mùa nào?\n",
    "\n",
    "**Yêu cầu:**\n",
    "* Nếu 1, 2, 3: Bạn sinh vào Mùa xuân\n",
    "* Nếu 4, 5, 6: Bạn sinh vào Mùa hạ\n",
    "* Nếu 7, 8, 9: Bạn sinh vào Mùa thu\n",
    "* Nếu 10, 11, 12: Bạn sinh vào Mùa đông\n",
    "* <1 hoặc >12: Tháng sinh nhập vào không đúng\n"
   ]
  },
  {
   "cell_type": "code",
   "execution_count": null,
   "metadata": {},
   "outputs": [],
   "source": [
    "#{HỌC VIÊN VIẾT CODE Ở ĐÂY!}\n",
    "\n",
    "\n",
    "\n"
   ]
  },
  {
   "cell_type": "markdown",
   "metadata": {},
   "source": [
    "## Bài 9: Hiển thị bảng cửu chương!\n",
    "---\n",
    "Nhập vào bảng cửu chương muốn in (1 – 10), hiển thị bảng cửu chương tương ứng với số vừa nhập. (Lưu ý: Thực hiện kiểm tra giá trị nhập, chỉ thỏa mãn khi giá trị nhập vào trong khoảng [1,10] \n",
    "\n",
    "*Xem minh họa bài tập trong file bài giảng!*"
   ]
  },
  {
   "cell_type": "code",
   "execution_count": null,
   "metadata": {},
   "outputs": [],
   "source": [
    "#{HỌC VIÊN VIẾT CODE Ở ĐÂY!}\n",
    "\n",
    "\n",
    "\n",
    "\n",
    "\n"
   ]
  },
  {
   "cell_type": "code",
   "execution_count": null,
   "metadata": {},
   "outputs": [],
   "source": []
  },
  {
   "cell_type": "markdown",
   "metadata": {},
   "source": [
    "## Bài 10: Tính điểm học tập của bạn!\n",
    "---\n",
    "Khởi tạo một danh sách bao gồm các phần tử là điểm của bạn (hệ 10). Hãy thực hiện:\n",
    "1. Tạo một danh sách là các điểm chữ tương ứng với điểm hệ 10 ở trên.\n",
    "2. Tính điểm trung bình Hệ 10 và Hệ 4\n",
    "\n",
    "*Tham khảo minh họa trong slide bài giảng bảng chuyển đổi từ điểm số (Hệ 10) sang điểm số (hệ 4) và điểm chữ*  \n"
   ]
  },
  {
   "cell_type": "code",
   "execution_count": null,
   "metadata": {},
   "outputs": [],
   "source": [
    "#{HỌC VIÊN VIẾT CODE Ở ĐÂY!}\n",
    "\n",
    "\n",
    "\n",
    "\n",
    "\n"
   ]
  },
  {
   "cell_type": "markdown",
   "metadata": {},
   "source": [
    "## Bài 11: Kiểm tra N có là số nguyên tố?\n",
    "---\n",
    "Nhập vào số tự nhiên N, cho biết N có phải là số nguyên tố hay không? (Số nguyên tố là số lớn hơn 1, chỉ chia hết cho 1 và chính nó)\n"
   ]
  },
  {
   "cell_type": "code",
   "execution_count": null,
   "metadata": {},
   "outputs": [],
   "source": [
    "#{HỌC VIÊN VIẾT CODE Ở ĐÂY!}\n",
    "\n",
    "\n",
    "N0 = 2, 4        --> ???\n",
    "N1 = 98711653011 --> ??\n",
    "N2 = 87178291199 --> ??\n"
   ]
  },
  {
   "cell_type": "code",
   "execution_count": null,
   "metadata": {},
   "outputs": [],
   "source": []
  },
  {
   "cell_type": "markdown",
   "metadata": {},
   "source": [
    "## Bài 12: dãy số nguyên tố\n",
    "---\n",
    "Nhập vào một số N, hiển thị các số nguyên tố từ 2 tới N:\n"
   ]
  },
  {
   "cell_type": "code",
   "execution_count": null,
   "metadata": {},
   "outputs": [],
   "source": [
    "#{HỌC VIÊN VIẾT CODE Ở ĐÂY!}\n",
    "\n",
    "\n",
    "\n",
    "\n",
    "\n"
   ]
  },
  {
   "cell_type": "markdown",
   "metadata": {},
   "source": [
    "## Bài 13: Đổi số từ thập phân sang nhị phân\n",
    "---\n",
    "Nhập vào một số tự nhiên N (N>0), chuyển đổi số N sang hệ nhị phân.\n"
   ]
  },
  {
   "cell_type": "code",
   "execution_count": null,
   "metadata": {},
   "outputs": [],
   "source": [
    "#{HỌC VIÊN VIẾT CODE Ở ĐÂY!}\n",
    "\n",
    "\n",
    "\n",
    "\n",
    "\n"
   ]
  },
  {
   "cell_type": "markdown",
   "metadata": {},
   "source": [
    "## Bài 14: Tìm số Max – Min - Mean\n",
    "---\n",
    "Khởi tạo một dãy số là chiều cao của sinh viên trong một lớp (m). Thực hiện:\n",
    "1. Hiển thị chiều cao của sinh viên cao nhất – thấp nhất trong lớp\n",
    "2. Tính chiều cao trung bình của sinh viên trong lớp.\n",
    "3. Số lượng sinh viên trong lớp có chiều cao lớn hơn hoặc bằng chiều cao trung bình của lớp\n"
   ]
  },
  {
   "cell_type": "code",
   "execution_count": null,
   "metadata": {},
   "outputs": [],
   "source": [
    "#{HỌC VIÊN VIẾT CODE Ở ĐÂY!}\n",
    "\n",
    "\n",
    "\n",
    "\n",
    "\n"
   ]
  }
 ],
 "metadata": {
  "kernelspec": {
   "display_name": "Python 3",
   "language": "python",
   "name": "python3"
  },
  "language_info": {
   "codemirror_mode": {
    "name": "ipython",
    "version": 3
   },
   "file_extension": ".py",
   "mimetype": "text/x-python",
   "name": "python",
   "nbconvert_exporter": "python",
   "pygments_lexer": "ipython3",
   "version": "3.7.1"
  }
 },
 "nbformat": 4,
 "nbformat_minor": 2
}
