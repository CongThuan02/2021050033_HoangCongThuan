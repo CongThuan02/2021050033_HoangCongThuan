{
 "cells": [
  {
   "cell_type": "markdown",
   "metadata": {},
   "source": [
    "## CHƯƠNG 3: LẬP TRÌNH PYTHON CƠ BẢN - PHẦN BÀI TẬP - 03\n",
    "---\n",
    "\n",
    "1. Họ tên Sinh viên: \n",
    "2. Mã Sinh viên:\n",
    "3. Email:"
   ]
  },
  {
   "cell_type": "markdown",
   "metadata": {},
   "source": [
    "## BÀI 15: Viết hàm cho các bài đã thực hiện\n",
    "---\n",
    "1. Viết hàm greeting(): Trả về câu chào với tham số truyền vào là chuỗi họ tên và năm sinh (Xem lại bài tập số 2)\n",
    "2. Viết hàm rabbit_count(): tính số thỏ trong rừng khi truyền vào số tháng (Xem lại bài tập số 3)\n",
    "3. Viết hàm count_mark(): trả về số sinh viên học lại và tổng số sinh viên trong lớp với tham số truyền vào là một danh sách bảng điểm (Xem lại bài tập số 5 ý 1, 2)\n",
    "4. Viết hàm bmi_show(): Trả về nhận xét dựa vào chỉ số BMI đã tính với 2 tham số truyền vào là chiều cao, cân nặng (Xem lại bài tập số 7)\n",
    "5. Viết hàm cal_point(): Trả về điểm trung bình hệ 10 và hệ 4 của một học sinh khi truyền vào danh sách điểm (Xem lại bài tập số 10 ý 2)\n",
    "6. Viết hàm list_prime(): trả danh sách các số nguyên tố trong khoảng tử 1 đến n với tham số truyền vào là n (Xem lại bài tập số 12)\n"
   ]
  },
  {
   "cell_type": "code",
   "execution_count": null,
   "metadata": {},
   "outputs": [],
   "source": [
    "#{HỌC VIÊN VIẾT CODE Ở ĐÂY}\n",
    "\n",
    "\n"
   ]
  },
  {
   "cell_type": "code",
   "execution_count": null,
   "metadata": {},
   "outputs": [],
   "source": []
  },
  {
   "cell_type": "code",
   "execution_count": null,
   "metadata": {},
   "outputs": [],
   "source": []
  },
  {
   "cell_type": "code",
   "execution_count": null,
   "metadata": {},
   "outputs": [],
   "source": []
  },
  {
   "cell_type": "code",
   "execution_count": null,
   "metadata": {},
   "outputs": [],
   "source": []
  },
  {
   "cell_type": "code",
   "execution_count": null,
   "metadata": {},
   "outputs": [],
   "source": []
  },
  {
   "cell_type": "code",
   "execution_count": null,
   "metadata": {},
   "outputs": [],
   "source": []
  },
  {
   "cell_type": "code",
   "execution_count": null,
   "metadata": {},
   "outputs": [],
   "source": []
  },
  {
   "cell_type": "markdown",
   "metadata": {},
   "source": [
    "## BÀI 16: Xây dựng lớp Person:\n",
    "---\n",
    "1. Gồm các Thuộc tính: \n",
    "họ tên (name), năm sinh (year), chiều cao height), cân nặng (weight)\n",
    "2. Gồm các Phương thức: \n",
    "    * Geeting(): Hiển thị thông tin của Person\n",
    "    * BMI(): Tính toán theo chỉ số BMI của Person\n"
   ]
  },
  {
   "cell_type": "code",
   "execution_count": null,
   "metadata": {},
   "outputs": [],
   "source": [
    "#{HỌC VIÊN VIẾT CODE Ở ĐÂY}\n"
   ]
  },
  {
   "cell_type": "code",
   "execution_count": null,
   "metadata": {},
   "outputs": [],
   "source": []
  },
  {
   "cell_type": "code",
   "execution_count": null,
   "metadata": {},
   "outputs": [],
   "source": []
  },
  {
   "cell_type": "code",
   "execution_count": null,
   "metadata": {},
   "outputs": [],
   "source": []
  },
  {
   "cell_type": "code",
   "execution_count": null,
   "metadata": {},
   "outputs": [],
   "source": []
  },
  {
   "cell_type": "markdown",
   "metadata": {},
   "source": [
    "## BÀI 17: Đọc/ghi file\n",
    "---\n",
    "Đọc dữ liệu trong file dayso1_bai17.txt:\n",
    "1. Tìm phần tử lớn nhất và nhỏ nhất trong dãy, sau đó thực hiện đổi chỗ phần tử lớn nhất xuất hiện đầu tiên trong dãy cho phần tử nhỏ nhất xuất hiện đầu tiên trong dãy.\n",
    "2. Lưu dãy mới đã đổi chỗ sang file dayso2_bai17.txt\n",
    "\n",
    "*Xem hình minh họa trong file slide bài giảng*"
   ]
  },
  {
   "cell_type": "code",
   "execution_count": null,
   "metadata": {},
   "outputs": [],
   "source": [
    "#{HỌC VIÊN VIẾT CODE Ở ĐÂY}\n",
    "\n",
    "\n"
   ]
  },
  {
   "cell_type": "code",
   "execution_count": null,
   "metadata": {},
   "outputs": [],
   "source": []
  },
  {
   "cell_type": "code",
   "execution_count": null,
   "metadata": {},
   "outputs": [],
   "source": []
  }
 ],
 "metadata": {
  "kernelspec": {
   "display_name": "Python 3",
   "language": "python",
   "name": "python3"
  },
  "language_info": {
   "codemirror_mode": {
    "name": "ipython",
    "version": 3
   },
   "file_extension": ".py",
   "mimetype": "text/x-python",
   "name": "python",
   "nbconvert_exporter": "python",
   "pygments_lexer": "ipython3",
   "version": "3.7.1"
  }
 },
 "nbformat": 4,
 "nbformat_minor": 2
}
